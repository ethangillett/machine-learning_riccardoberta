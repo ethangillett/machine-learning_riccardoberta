{
 "cells": [
  {
   "cell_type": "markdown",
   "metadata": {
    "tags": []
   },
   "source": [
    "# Quantization\n",
    "\n",
    "[![Open In Colab](https://colab.research.google.com/assets/colab-badge.svg)](https://colab.research.google.com/github/riccardoberta/machine-learning/blob/master/08-tiny-machine-learning/03-quantization.ipynb)\n",
    "\n",
    "Running a DNN on edge devices (with low power and limited memory) is often a challenge due to the huge memory requirements to store the input data, weight parameters and activations of the network as well as the massive amount of computations required for the calculation of the weighted sums of the neurons inputs. \n",
    "\n",
    "To tackle this problem, a possible solution is to perform **Quantization** ([B. Jacob, S. Kligys, B. Chen, M. Zhu, M. Tang, A. Howard, H. Adam, and D. Kalenichenko, \"Quantization and Training of Neural Networks for Efficient Integer-Arithmetic-Only Inference\", 2017](https://arxiv.org/abs/1712.05877)). It isn't something new, it has been around for many years and have been extensively since the creation of digital electronics. In digital signal processing, quantization usually refers to converting continuous signal (like light or sound) into discrete digital number. In deep learning, quantization means converting signed single precision floating point (float32) to lower precision number format such as unsigned 8-bit integer (uint8).  Although quantization can reduce memory, it is not mainly to save storage but rather to speed up the inference. This can happen for two reasons: deep neural networks have a lot of parameters (weights) and loading them from memory can become the bottleneck rather than the actual computation, so is moving the activations back the the main memor; moreover fixed point computation is usually faster than the floating point counterpart. \n",
    "\n",
    "Quantization mapping\n",
    "1. [Quantization mapping](#Quantization-mapping) \n",
    "2. [Quantized Matrix Multiplication](#Quantized-Matrix-Multiplication) \n",
    "3. [Quantized Deep Learning Layers](#Quantized-Deep-Learning-Layers) \n",
    "4. [Neural Networks Integer Quantization Modes](#Neural-Networks-Integer-Quantization-Modes) "
   ]
  },
  {
   "cell_type": "markdown",
   "metadata": {},
   "source": [
    "## Quantization mapping\n",
    "\n",
    "Quantization maps a floating point value $x \\in [\\alpha, \\beta]$ to a b-bit integer  $x_q \\in [\\alpha_q, \\beta_q]$. Mathematically, the quantization process is defined as:\n",
    "\n",
    "$\\begin{align}\n",
    "x_q = \\text{round}(\\frac{x}{c} - d)\n",
    "\\end{align}$\n",
    "\n",
    "and the de-quantization process is defined as:\n",
    "\n",
    "$\\begin{align}\n",
    "x = c(x_q + d)\n",
    "\\end{align}$\n",
    "\n",
    "where $c$ and $d$ are parameters which can be derived in order to assure that $\\alpha_q$ maps to $\\alpha$ and $\\beta_q$ maps to $\\beta$. \n",
    "\n",
    "<img src=\"./images/quantization-mapping.png\" width=\"500\"> \n",
    "\n",
    "So we would just have to solve a linear system:\n",
    "\n",
    "$\\begin{align}\n",
    "\\alpha = c(\\alpha_q + d)\n",
    "\\end{align}$\n",
    "\n",
    "$\\begin{align}\n",
    "\\beta = c(\\beta_q + d)\n",
    "\\end{align}$\n",
    "\n",
    "The solution is:\n",
    "\n",
    "$\\begin{align}\n",
    "c = \\frac{\\beta - \\alpha}{\\beta_q - \\alpha_q}\n",
    "\\end{align}$\n",
    "\n",
    "$\\begin{align}\n",
    "d = \\frac{\\alpha \\beta_q - \\beta \\alpha_q}{\\beta - \\alpha}\n",
    "\\end{align}$\n",
    "\n",
    "In practice, we would have to ensure that 0 in floating point is represented exactly with no error after quantization. Mathematichally, we need to ensure:\n",
    "\n",
    "$\\begin{align}\n",
    "x_q = \\text{round}(\\frac{0}{c} - d) = -\\text{round}(d)\n",
    "\\end{align}$\n",
    "\n",
    "This means that:\n",
    "\n",
    "$\\begin{align}\n",
    "d = \\text{round}(d) = \\text{round}(\\frac{\\alpha \\beta_q - \\beta \\alpha_q}{\\beta - \\alpha})\n",
    "\\end{align}$\n",
    "\n",
    "By convention, we denote $c$ as the **scale** $s$ and $−d$ as the **zero point** z. To summarize, the quantization and de-quantization processes are defined as:\n",
    "\n",
    "$\\begin{align}\n",
    "x_q = \\text{round}(\\frac{x}{s} + z)\n",
    "\\end{align}$\n",
    "\n",
    "$\\begin{align}\n",
    "x = s(x_q - z)\n",
    "\\end{align}$\n",
    "\n",
    "$\\begin{align}\n",
    "s = \\frac{\\beta - \\alpha}{\\beta_q - \\alpha_q}\n",
    "\\end{align}$\n",
    "\n",
    "$\\begin{align}\n",
    "z = \\text{round}(\\frac{\\beta \\alpha_q - \\alpha \\beta_q }{\\beta - \\alpha})\n",
    "\\end{align}$\n",
    "\n",
    "If the integer type is **signed INTb** then:\n",
    "\n",
    "$\\begin{align}\n",
    "(\\alpha_q, \\beta_q) = (-2^{b-1}, 2^{b-1}-1)\n",
    "\\end{align}$\n",
    "\n",
    "Else, if the integer type is **unsigned UINTb** then:\n",
    "\n",
    "$\\begin{align}\n",
    "(\\alpha_q, \\beta_q) = (0, 2^b-1)\n",
    "\\end{align}$\n",
    "\n",
    "In practice, the quantization process will have chance to have $x$ that is outside the range of $[\\alpha, \\beta]$, thus the quantized value $x_q$  will also be outside the range of $[\\alpha_q, \\beta_q]$ and we need to clip the values that are outside the range. More concretely, the quantization process will have an additional clip step: \n",
    "\n",
    "$\\begin{align}\n",
    "x_q = \\text{clip}(\\text{round}(\\frac{x}{s} + z), \\alpha_q, \\beta_q)\n",
    "\\end{align}$\n",
    "\n",
    "There are other ways of quantization mapping, potentially even non-linear."
   ]
  },
  {
   "cell_type": "code",
   "execution_count": 5,
   "metadata": {},
   "outputs": [],
   "source": [
    "import numpy as np\n",
    "\n",
    "def quantization(x, s, z, alpha_q=-128, beta_q=127):\n",
    "    x_q = np.round(1 / s * x + z, decimals=0)\n",
    "    x_q = np.clip(x_q, a_min=alpha_q, a_max=beta_q)\n",
    "    return x_q\n",
    "\n",
    "def dequantization(x_q, s, z):\n",
    "    x = s * (x_q - z)\n",
    "    x = x.astype(np.float32)\n",
    "    return x\n",
    "\n",
    "def generate_quantization_constants(alpha, beta, alpha_q=-128, beta_q=127):\n",
    "    s = (beta - alpha) / (beta_q - alpha_q)\n",
    "    z = int((beta * alpha_q - alpha * beta_q) / (beta - alpha))\n",
    "    return s, z"
   ]
  },
  {
   "cell_type": "code",
   "execution_count": 6,
   "metadata": {},
   "outputs": [],
   "source": [
    "alpha = -100\n",
    "beta = 100\n",
    "\n",
    "alpha_q = -10\n",
    "beta_q = 10\n",
    "\n",
    "s,z = generate_quantization_constants(alpha, beta, alpha_q, beta_q)\n",
    "\n",
    "x = np.arange (alpha-50, beta+50, 0.1)\n",
    "x_q = quantization(x, s, z, alpha_q, beta_q)"
   ]
  },
  {
   "cell_type": "code",
   "execution_count": 7,
   "metadata": {},
   "outputs": [
    {
     "data": {
      "image/png": "[encoded data removed]",
      "text/plain": [
       "<Figure size 432x288 with 1 Axes>"
      ]
     },
     "metadata": {
      "needs_background": "light"
     },
     "output_type": "display_data"
    }
   ],
   "source": [
    "import matplotlib.pyplot as plt\n",
    "fig, ax = plt.subplots()\n",
    "ax.plot(x, x_q,color='r')\n",
    "ax.set_xlabel(\"floating point\")\n",
    "ax.set_ylabel(\"quantized integer\")\n",
    "ax.axhline(y=0, color='k')\n",
    "ax.axvline(x=0, color='k')\n",
    "ax.grid(True)"
   ]
  },
  {
   "cell_type": "markdown",
   "metadata": {},
   "source": [
    "## Quantized Matrix Multiplication\n",
    "\n",
    "Suppose we have to perform the tipycal matrix multiplication of a neuron:\n",
    "\n",
    "$\\begin{align}\n",
    "Y = X W + b\n",
    "\\end{align}$\n",
    "\n",
    "where $X \\in R^{m \\times p}$, $W \\in R^{p \\times n}$ and $b \\in R^n$ resulting in $Y \\in R^{m \\times n}$\n",
    "\n",
    "We would need to do $p$ floating number multiplications and $p$ floating number additions to compute one single entry in $Y$:\n",
    "\n",
    "$\\begin{align}\n",
    "Y_{i,j} = b_j + \\sum\\limits_{k=1}^{p}{X_{i,k}W_{k,j}} \n",
    "\\end{align}$\n",
    "\n",
    "To complete the full matrix multiplication, given there are ($m \\cdot n$) entries in $Y$, we would need to do ($m\\cdot p\\cdot n$) floating number multiplications and ($m\\cdot p\\cdot n$) floating number additions."
   ]
  },
  {
   "cell_type": "markdown",
   "metadata": {},
   "source": [
    "Can we complete the same matrix multiplication using quantized values? Here we apply the de-quantization equation:\n",
    "\n",
    "$\\begin{align}\n",
    "Y_{i,j} = b_j + \\sum\\limits_{k=1}^{p}{X_{i,k}W_{k,j}}=\n",
    "\\end{align}$\n",
    "\n",
    "$\\begin{align}\n",
    "= s_b(b_{q,j}-z_b) + \\sum\\limits_{k=1}^{p}{s_X(X_{q,i,k}-z_X)s_W(W_{q,k,j}-z_W)}=\n",
    "\\end{align}$\n",
    "\n",
    "$\\begin{align}\n",
    "= s_b(b_{q,j}-z_b) + s_X s_W \\sum\\limits_{k=1}^{p}{(X_{q,i,k}-z_X)(W_{q,k,j}-z_W)}=\n",
    "\\end{align}$\n",
    "\n",
    "$\\begin{align}\n",
    "= s_b(b_{q,j}-z_b) + s_X s_W \\left[ (\\sum\\limits_{k=1}^{p}{X_{q,i,k}W_{q,k,j}}) - (z_W \\sum\\limits_{k=1}^{p}{X_{q,i,k}}) - (z_X \\sum\\limits_{k=1}^{p}{W_{q,i,k}}) + p z_X z_W \\right]\n",
    "\\end{align}$\n",
    "\n",
    "where $X_q$, $W_q$ and $b_q$ are the quantized matrix for $X$, $W$ and $b$; $s_X$, $s_W$ and $s_b$ are the scales; and $z_X$, $z_W$ and $z_b$ are the zero point."
   ]
  },
  {
   "cell_type": "markdown",
   "metadata": {},
   "source": [
    "We can express the operation with quantized matrix $Y_q$:\n",
    "\n",
    "$\\begin{align}\n",
    "Y_{i,j} = s_Y(Y_{q,i,j}-z_Y)\n",
    "\\end{align}$\n",
    "\n",
    "therefore,\n",
    "\n",
    "$\\begin{align}\n",
    "Y_{q,i,j} = z_Y + \\frac{s_b}{s_Y}(b_{q,j}-z_b) + \\frac{s_X s_W}{s_Y} \\left[ (\\sum\\limits_{k=1}^{p}{X_{q,i,k}W_{q,k,j}}) - (z_W \\sum\\limits_{k=1}^{p}{X_{q,i,k}}) - (z_X \\sum\\limits_{k=1}^{p}{W_{q,i,k}}) + p z_X z_W \\right]\n",
    "\\end{align}$\n",
    "\n",
    "Notice that several terms are constant during the inference (don't depend on the particular input) and can be computed offline:\n",
    "\n",
    "- $z_Y$\n",
    "- $\\frac{s_b}{s_Y}(b_{q,j}-z_b)$\n",
    "- $z_X \\sum\\limits_{k=1}^{p}{W_{q,i,k}}$\n",
    "- $p z_X z_W$\n",
    "\n",
    "The term\n",
    "\n",
    "$\\begin{align}\n",
    "\\sum\\limits_{k=1}^{p}{X_{q,i,k}W_{q,k,j}}\n",
    "\\end{align}$\n",
    "\n",
    "suggest that we could just do the integer matrix multiplication for $X_q$ and $W_q$. Such integer matrix multiplication could employ special hardware and algorithms, such as [NVIDIA Tensor Core IMMA operations](https://docs.nvidia.com/cuda/ampere-tuning-guide/index.html#tensor-operations), and runs much faster than conventional integer matrix multiplication. Where IMMA stands for **Integer Matrix Multiply and Accumulate** operation.\n",
    "\n",
    "<img src=\"./images/tensor-core-operation.png\" width=\"500\"> "
   ]
  },
  {
   "cell_type": "markdown",
   "metadata": {},
   "source": [
    "The product integer matrix could be converted back to floating point matrix. Suppose that $f_q$ is the quantization function, $f_m$ is the quantized matrix multiplication function and $f_d$ is the de-quantization function, then we can have  a sequence of matrix multiplications, likw in the ANN inference, whose inputs and outputs are floating point:\n",
    "\n",
    "$\\begin{align}\n",
    "X_1 = X_0W_0 + b_0\n",
    "\\end{align}$\n",
    "\n",
    "$\\begin{align}\n",
    "X_2 = X_1W_1 + b_1\n",
    "\\end{align}$\n",
    "\n",
    "$\\begin{align}\n",
    "...\n",
    "\\end{align}$\n",
    "\n",
    "$\\begin{align}\n",
    "X_n = X_{n-1}W_{n-1} + b_{n-1}\n",
    "\\end{align}$\n",
    "\n",
    "We can convert the math using the quatized matrices:\n",
    "\n",
    "$\\begin{align}\n",
    "X_{0,q} = f_q(X_0, s_{X_0}, z_{X_0})\n",
    "\\end{align}$\n",
    "\n",
    "$\\begin{align}\n",
    "X_{1,q} = f_m(X_{0,q}, W_{0,q}, b_{0,q})\n",
    "\\end{align}$\n",
    "\n",
    "$\\begin{align}\n",
    "X_{2,q} = f_m(X_{1,q}, W_{1,q}, b_{1,q})\n",
    "\\end{align}$\n",
    "\n",
    "$\\begin{align}\n",
    "...\n",
    "\\end{align}$\n",
    "\n",
    "$\\begin{align}\n",
    "X_{n,q} = f_m(X_{n-1,q}, W_{n-1,q}, b_{n-1,q})\n",
    "\\end{align}$\n",
    "\n",
    "$\\begin{align}\n",
    "X_n = f_d(X_{n,q}, s_{X_n}, z_{X_n})\n",
    "\\end{align}$"
   ]
  },
  {
   "cell_type": "markdown",
   "metadata": {},
   "source": [
    "In the following, we implement the quantization matrix multiplication:"
   ]
  },
  {
   "cell_type": "code",
   "execution_count": 8,
   "metadata": {},
   "outputs": [],
   "source": [
    "def quantization_matrix_multiplication(X_q, W_q, b_q, s_X, z_X, s_W, z_W, s_b, z_b, s_Y, z_Y):\n",
    "    p = W_q.shape[0]\n",
    "    Y_q = (z_Y + \n",
    "          (s_b / s_Y * (b_q - z_b)).astype(np.int8) +\n",
    "          ((s_X * s_W / s_Y) * (np.matmul(X_q, W_q) - \n",
    "                               z_W * np.sum(X_q, axis=1, keepdims=True) -\n",
    "                               z_X * np.sum(W_q, axis=0, keepdims=True) +\n",
    "                               p * z_X * z_W)).astype(np.int8)).astype(np.int8)\n",
    "\n",
    "    return Y_q"
   ]
  },
  {
   "cell_type": "markdown",
   "metadata": {},
   "source": [
    "We can make an example comparing the floating point multiplication and the quantized multiplication for some random matices:"
   ]
  },
  {
   "cell_type": "code",
   "execution_count": 9,
   "metadata": {},
   "outputs": [
    {
     "name": "stdout",
     "output_type": "stream",
     "text": [
      "Y:\n",
      "[[ -422.73868   -534.7745   -1484.6167    -473.53763 ]\n",
      " [-1658.9243      19.164497  -763.61664   2194.8906  ]]\n",
      "Expected Y_q:\n",
      "[[-18. -23. -63. -20.]\n",
      " [-71.   1. -32.  93.]]\n",
      "Y_q from Quantized Matrix Multiplication:\n",
      "[[-17 -23 -62 -20]\n",
      " [-69   1 -32  92]]\n",
      "Y from dequantizaion of Y_q:\n",
      "[[ -400.        -541.17645  -1458.8235    -470.58823 ]\n",
      " [-1623.5294      23.529411  -752.94116   2164.7058  ]]\n"
     ]
    }
   ],
   "source": [
    "m = 2\n",
    "p = 3\n",
    "n = 4\n",
    "\n",
    "# X\n",
    "alpha_X = -100.0\n",
    "beta_X = 80.0\n",
    "X = np.random.uniform(low=alpha_X, high=beta_X, size=(m, p)).astype(np.float32)\n",
    "s_X, z_X = generate_quantization_constants(alpha=alpha_X, beta=beta_X)\n",
    "X_q = quantization(x=X, s=s_X, z=z_X)\n",
    "\n",
    "# W\n",
    "alpha_W = -20.0\n",
    "beta_W = 10.0\n",
    "W = np.random.uniform(low=alpha_W, high=beta_W, size=(p, n)).astype(np.float32)\n",
    "s_W, z_W = generate_quantization_constants(alpha=alpha_W, beta=beta_W)\n",
    "W_q = quantization(x=W, s=s_W, z=z_W)\n",
    "\n",
    "# b\n",
    "alpha_b = -500.0\n",
    "beta_b = 500.0\n",
    "s_b, z_b = generate_quantization_constants(alpha=alpha_b, beta=beta_b)\n",
    "b = np.random.uniform(low=alpha_b, high=beta_b, size=(1, n)).astype(np.float32)\n",
    "b_q = quantization(x=b, s=s_b, z=z_b)\n",
    "\n",
    "# Y\n",
    "alpha_Y = -3000.0\n",
    "beta_Y = 3000.0\n",
    "s_Y, z_Y = generate_quantization_constants(alpha=alpha_Y, beta=beta_Y)\n",
    "Y = np.matmul(X, W) + b\n",
    "Y_q_expected = quantization(x=Y, s=s_Y, z=z_Y)\n",
    "\n",
    "print(\"Y:\")\n",
    "print(Y)\n",
    "print(\"Expected Y_q:\")\n",
    "print(Y_q_expected)\n",
    "\n",
    "# Quantized Matrix Multiplication \n",
    "Y_q_from_multiplication = quantization_matrix_multiplication(X_q, W_q, b_q, s_X, z_X, s_W,z_W,s_b,z_b,s_Y,z_Y)\n",
    "Y_from_dequantization = dequantization(Y_q_from_multiplication, s_Y, z_Y)\n",
    "\n",
    "print(\"Y_q from Quantized Matrix Multiplication:\")\n",
    "print(Y_q_from_multiplication)\n",
    "print(\"Y from dequantizaion of Y_q:\")\n",
    "print(Y_from_dequantization)"
   ]
  },
  {
   "cell_type": "markdown",
   "metadata": {},
   "source": [
    "Notice that the product FP32 matrix computed using quantized matrices is close to the expectation computed using matrices floating point matrices."
   ]
  },
  {
   "cell_type": "markdown",
   "metadata": {},
   "source": [
    "## Quantized Deep Learning Layers\n",
    "\n",
    "In addition to matrix multiplications, deep learning models also have non-linear activation layers such as ReLU and other special layers such as batch normalization. So the question becomes how do we deal with these layers in a quantized deep learning model in practice?\n",
    "\n",
    "One trivial solution is to de-quantize the quantized input tensor to these layers, use ordinary floating point computations, and quantize the output tensors. This will work if there are only a few such layers in the model or there is no special implementations to handle these layers in a quantized manner. However, in most of the deep learning models, the number of such layers are not negligible, and using this trivial solution is likely to slow the inference down significantly.\n",
    "\n",
    "The other solution is to deal with each individual special layers carefully. As an example, we can consider the quantized version of the ReLU activation function."
   ]
  },
  {
   "cell_type": "markdown",
   "metadata": {},
   "source": [
    "### Quantized ReLU\n",
    "\n",
    "We define the activation function ReLU as follows. This might look different from the the conventional ReLU definition, but such definition is more generalized and is convenient for the demonstration of quantized ReLU.\n",
    "\n",
    "$\\begin{align}\n",
    "\\text{ReLU}(x,x_t,y_v,k)= \\Big\\{ \\begin{matrix} y_v  \\enspace \\enspace \\enspace \\enspace \\enspace \\enspace \\enspace \\enspace \\enspace \\enspace \\text{if} \\enspace x \\lt x_t \\\\ y_v + k(x-x_t) \\enspace \\text{if} \\enspace x\\geq x_t \\end{matrix} \n",
    "\\end{align}$\n",
    "\n",
    "The common ReLU is a special case where $x_t=0$, $y_v=0$ and $k=1$"
   ]
  },
  {
   "cell_type": "code",
   "execution_count": 12,
   "metadata": {},
   "outputs": [],
   "source": [
    "def relu(x, x_t, y_v, k):\n",
    "    x = np.clip(x, a_min=x_t, a_max=None)\n",
    "    y = y_v + k * (x - x_t)\n",
    "    return y"
   ]
  },
  {
   "cell_type": "code",
   "execution_count": 25,
   "metadata": {},
   "outputs": [],
   "source": [
    "x_t = 0\n",
    "y_v = 0\n",
    "k = 1\n",
    "\n",
    "x = np.arange (-5, 5, 0.1)\n",
    "y = relu(x, x_t, y_v, k)"
   ]
  },
  {
   "cell_type": "code",
   "execution_count": 24,
   "metadata": {},
   "outputs": [
    {
     "data": {
      "image/png": "[encoded data removed]",
      "text/plain": [
       "<Figure size 432x288 with 1 Axes>"
      ]
     },
     "metadata": {
      "needs_background": "light"
     },
     "output_type": "display_data"
    }
   ],
   "source": [
    "import matplotlib.pyplot as plt\n",
    "fig, ax = plt.subplots()\n",
    "ax.plot(x, y,color='r')\n",
    "ax.set_xlabel(\"x\")\n",
    "ax.set_ylabel(\"ReLU\")\n",
    "ax.axhline(y=0, color='k')\n",
    "ax.axvline(x=0, color='k')\n",
    "ax.grid(True)"
   ]
  },
  {
   "cell_type": "markdown",
   "metadata": {},
   "source": [
    "Then let’s derive how the quantized ReLU mathematically:\n",
    "\n",
    "$\\begin{align}\n",
    "y = \\text{ReLU}(x,0,0,1)= \\Big\\{ \\begin{matrix} 0 \\enspace \\text{if} \\enspace x \\lt 0 \\\\ x \\enspace \\text{if} \\enspace x\\geq 0 \\end{matrix} =\n",
    "\\end{align}$\n",
    "\n",
    "$\\begin{align}\n",
    "= s_y(y_q - z_y) =\n",
    "\\end{align}$\n",
    "\n",
    "$\\begin{align}\n",
    "= \\text{ReLU}(s_x(x_q-z_x),0,0,1)= \\Big\\{ \\begin{matrix} 0 \\enspace \\enspace \\enspace \\enspace \\enspace \\enspace \\enspace \\enspace \\text{if} \\enspace s_x(x_q-z_x) \\lt 0 \\\\ s_x(x_q-z_x) \\enspace \\text{if} \\enspace s_x(x_q-z_x)\\geq 0 \\end{matrix} =\n",
    "\\end{align}$\n",
    "\n",
    "$\\begin{align}\n",
    "= \\text{ReLU}(s_x(x_q-z_x),0,0,1)= \\Big\\{ \\begin{matrix} 0 \\enspace \\enspace \\enspace \\enspace \\enspace \\enspace \\enspace \\enspace \\text{if} \\enspace x_q \\lt z_x \\\\ s_x(x_q-z_x) \\enspace \\text{if} \\enspace x_q \\geq z_x \\end{matrix}\n",
    "\\end{align}$\n",
    "\n",
    "therefore,\n",
    "\n",
    "$\\begin{align}\n",
    "y_q = \\Big\\{ \\begin{matrix} z_y \\enspace \\enspace \\enspace \\enspace \\enspace \\enspace \\enspace \\enspace \\enspace \\enspace \\text{if} \\enspace x_q \\lt z_x \\\\ z_y + \\frac{s_x}{s_y} (x_q-z_x) \\enspace \\text{if} \\enspace x_q \\geq z_x \\end{matrix} = \\text{ReLU}(x_q, z_x, z_y, {s_x}/{s_y})\n",
    "\\end{align}$\n",
    "\n",
    "So it becomes apparent that to do the quantized ReLU corresponding to the floating point $y = ReLU(x,0,0,1)$, we just have to do $y_q = ReLU(x_q, z_x, z_y,  {s_x}/{s_y})$"
   ]
  },
  {
   "cell_type": "code",
   "execution_count": 27,
   "metadata": {},
   "outputs": [],
   "source": [
    "def quantization_relu(x_q, s_x, z_x, s_y, z_y):\n",
    "    y_q = relu(x_q, z_x, z_y, s_x/s_y).astype(np.uint8)\n",
    "    return y_q"
   ]
  },
  {
   "cell_type": "code",
   "execution_count": 28,
   "metadata": {},
   "outputs": [],
   "source": [
    "alpha_x = -60.0\n",
    "beta_x = 60.0\n",
    "s_x, z_x = generate_quantization_constants(alpha_x, beta_x)\n",
    "x = np.arange (-5, 5, 0.1)\n",
    "x_q = quantization(x, s_x, z_x)\n",
    "\n",
    "alpha_y = -100.0\n",
    "beta_y = 100.0\n",
    "s_y, z_y = generate_quantization_constants(alpha_y, beta_y)\n",
    "\n",
    "y_q = quantization_relu(x_q, s_x, z_x, s_y, z_y)\n",
    "y = dequantization(y_q, s_y, z_y)"
   ]
  },
  {
   "cell_type": "code",
   "execution_count": 29,
   "metadata": {},
   "outputs": [
    {
     "data": {
      "image/png": "[encoded data removed]",
      "text/plain": [
       "<Figure size 432x288 with 1 Axes>"
      ]
     },
     "metadata": {
      "needs_background": "light"
     },
     "output_type": "display_data"
    }
   ],
   "source": [
    "import matplotlib.pyplot as plt\n",
    "fig, ax = plt.subplots()\n",
    "ax.plot(x, y_q,color='r')\n",
    "ax.set_xlabel(\"x\")\n",
    "ax.set_ylabel(\"Quantized ReLU\")\n",
    "ax.axhline(y=0, color='k')\n",
    "ax.axvline(x=0, color='k')\n",
    "ax.grid(True)"
   ]
  },
  {
   "cell_type": "markdown",
   "metadata": {},
   "source": [
    "We can make some simulations:"
   ]
  },
  {
   "cell_type": "code",
   "execution_count": 30,
   "metadata": {},
   "outputs": [
    {
     "name": "stdout",
     "output_type": "stream",
     "text": [
      "X:\n",
      "[[ 53.945545 -14.557505  25.265274  14.182593]\n",
      " [-51.783535  25.961891 -22.418495  11.479239]]\n",
      "X_q:\n",
      "[[ 115.  -31.   54.   30.]\n",
      " [-110.   55.  -48.   24.]]\n",
      "Y:\n",
      "[[53.945545  0.       25.265274 14.182593]\n",
      " [ 0.       25.961891  0.       11.479239]]\n",
      "Y_q:\n",
      "[[69.  0. 32. 18.]\n",
      " [ 0. 33.  0. 15.]]\n",
      "Y_q from Quantized ReLU:\n",
      "[[69  0 32 18]\n",
      " [ 0 33  0 14]]\n",
      "Y from Quantized ReLU:\n",
      "[[54.117645  0.       25.09804  14.117647]\n",
      " [ 0.       25.882353  0.       10.980392]]\n"
     ]
    }
   ],
   "source": [
    "# Random matrices\n",
    "m = 2\n",
    "n = 4\n",
    "\n",
    "alpha_X = -60.0\n",
    "beta_X = 60.0\n",
    "s_X, z_X = generate_quantization_constants(alpha_X, beta_X)\n",
    "X = np.random.uniform(alpha_X, beta_X, size=(m, n)).astype(np.float32)\n",
    "X_q = quantization(X, s_X, z_X)\n",
    "\n",
    "alpha_Y = -100\n",
    "beta_Y = 100\n",
    "s_Y, z_Y = generate_quantization_constants(alpha_Y, beta_Y)\n",
    "Y = relu(X, 0, 0, 1)\n",
    "Y_q = quantization(Y, s_Y, z_Y)\n",
    "\n",
    "print(\"X:\")\n",
    "print(X)\n",
    "print(\"X_q:\")\n",
    "print(X_q)\n",
    "\n",
    "print(\"Y:\")\n",
    "print(Y)\n",
    "print(\"Y_q:\")\n",
    "print(Y_q)\n",
    "\n",
    "Y_q_from_quantized_ReLU = quantization_relu(X_q,s_X,z_X,s_Y,z_Y)\n",
    "Y_from_quantized_ReLU = dequantization(Y_q_from_quantized_ReLU, s_Y, z_Y)\n",
    "\n",
    "print(\"Y_q from Quantized ReLU:\")\n",
    "print(Y_q_from_quantized_ReLU)\n",
    "print(\"Y from Quantized ReLU:\")\n",
    "print(Y_from_quantized_ReLU)"
   ]
  },
  {
   "cell_type": "markdown",
   "metadata": {},
   "source": [
    "Notice that the FP32 ReLU activations computed using quantized matrices is close to the one computed using floating point matrices."
   ]
  },
  {
   "cell_type": "markdown",
   "metadata": {},
   "source": [
    "## Neural Networks Integer Quantization Modes\n",
    "\n",
    "There are generally two modes for appliyng quantization to neural networks: **post-training quantization** and **quantization aware training**. In order to introduce both of them, we build a Keras Model for MNIST classification and we will use the quantization feature provided by [TensorFlow Lite model optimization](https://www.tensorflow.org/lite/performance/model_optimization?hl=en)."
   ]
  },
  {
   "cell_type": "code",
   "execution_count": 31,
   "metadata": {},
   "outputs": [],
   "source": [
    "import numpy as np\n",
    "import tensorflow as tf\n",
    "from tensorflow import keras\n",
    "from keras.datasets import mnist\n",
    "import datetime, os\n",
    "\n",
    "tf.get_logger().setLevel('ERROR')"
   ]
  },
  {
   "cell_type": "code",
   "execution_count": 32,
   "metadata": {},
   "outputs": [],
   "source": [
    "# Load dataset as train and test sets\n",
    "(x_train, y_train), (x_test, y_test) = mnist.load_data()"
   ]
  },
  {
   "cell_type": "markdown",
   "metadata": {},
   "source": [
    "Preprocess the Data:"
   ]
  },
  {
   "cell_type": "code",
   "execution_count": 33,
   "metadata": {},
   "outputs": [
    {
     "name": "stdout",
     "output_type": "stream",
     "text": [
      "60000 train samples\n",
      "10000 test samples\n"
     ]
    }
   ],
   "source": [
    "x_train = x_train.reshape(60000, 784).astype('float32')\n",
    "x_test = x_test.reshape(10000, 784).astype('float32')\n",
    "x_train /= 255\n",
    "x_test /= 255\n",
    "print(x_train.shape[0], 'train samples')\n",
    "print(x_test.shape[0], 'test samples')\n",
    "num_classes = 10\n",
    "# convert class vectors to binary class matrices\n",
    "y_train = keras.utils.to_categorical(y_train, num_classes)\n",
    "y_test = keras.utils.to_categorical(y_test, num_classes)"
   ]
  },
  {
   "cell_type": "markdown",
   "metadata": {},
   "source": [
    "Define the model:"
   ]
  },
  {
   "cell_type": "code",
   "execution_count": 34,
   "metadata": {},
   "outputs": [
    {
     "name": "stdout",
     "output_type": "stream",
     "text": [
      "Model: \"sequential\"\n",
      "_________________________________________________________________\n",
      " Layer (type)                Output Shape              Param #   \n",
      "=================================================================\n",
      " dropout (Dropout)           (None, 784)               0         \n",
      "                                                                 \n",
      " dense (Dense)               (None, 1000)              785000    \n",
      "                                                                 \n",
      " dropout_1 (Dropout)         (None, 1000)              0         \n",
      "                                                                 \n",
      " dense_1 (Dense)             (None, 1000)              1001000   \n",
      "                                                                 \n",
      " dropout_2 (Dropout)         (None, 1000)              0         \n",
      "                                                                 \n",
      " dense_2 (Dense)             (None, 10)                10010     \n",
      "                                                                 \n",
      "=================================================================\n",
      "Total params: 1,796,010\n",
      "Trainable params: 1,796,010\n",
      "Non-trainable params: 0\n",
      "_________________________________________________________________\n"
     ]
    },
    {
     "name": "stderr",
     "output_type": "stream",
     "text": [
      "2022-05-18 15:10:40.924920: I tensorflow/core/platform/cpu_feature_guard.cc:151] This TensorFlow binary is optimized with oneAPI Deep Neural Network Library (oneDNN) to use the following CPU instructions in performance-critical operations:  AVX2 FMA\n",
      "To enable them in other operations, rebuild TensorFlow with the appropriate compiler flags.\n"
     ]
    }
   ],
   "source": [
    "from keras.models import Sequential\n",
    "from keras import models, layers\n",
    "from keras import regularizers\n",
    "\n",
    "model = Sequential()\n",
    "model.add(layers.Dropout(0.2,input_shape=(784,)))\n",
    "model.add(layers.Dense(1000, kernel_regularizer = regularizers.l2(0.01), activation='relu'))\n",
    "model.add(layers.Dropout(0.5))\n",
    "model.add(layers.Dense(1000, kernel_regularizer = regularizers.l2(0.01), activation='relu'))\n",
    "model.add(layers.Dropout(0.5))\n",
    "model.add(layers.Dense(10,  activation='softmax'))\n",
    "\n",
    "model.summary()"
   ]
  },
  {
   "cell_type": "markdown",
   "metadata": {},
   "source": [
    "Compile the Keral model:"
   ]
  },
  {
   "cell_type": "code",
   "execution_count": 35,
   "metadata": {},
   "outputs": [],
   "source": [
    "model.compile(loss=keras.losses.categorical_crossentropy, \n",
    "              optimizer='adam', \n",
    "              metrics=['accuracy'])"
   ]
  },
  {
   "cell_type": "markdown",
   "metadata": {},
   "source": [
    "Fit the model: "
   ]
  },
  {
   "cell_type": "code",
   "execution_count": 36,
   "metadata": {},
   "outputs": [
    {
     "name": "stdout",
     "output_type": "stream",
     "text": [
      "Epoch 1/3\n",
      "469/469 [==============================] - 13s 27ms/step - loss: 2.0437 - accuracy: 0.8560 - val_loss: 0.6959 - val_accuracy: 0.9207\n",
      "Epoch 2/3\n",
      "469/469 [==============================] - 16s 34ms/step - loss: 0.7666 - accuracy: 0.8909 - val_loss: 0.6629 - val_accuracy: 0.9223\n",
      "Epoch 3/3\n",
      "469/469 [==============================] - 19s 40ms/step - loss: 0.7316 - accuracy: 0.8980 - val_loss: 0.6170 - val_accuracy: 0.9341\n"
     ]
    }
   ],
   "source": [
    "hist = model.fit(x_train, y_train, batch_size=128,\n",
    "                 epochs=3, verbose=1,\n",
    "                 validation_data=(x_test,y_test))"
   ]
  },
  {
   "cell_type": "markdown",
   "metadata": {},
   "source": [
    "Evaluate the model:"
   ]
  },
  {
   "cell_type": "code",
   "execution_count": 37,
   "metadata": {},
   "outputs": [
    {
     "name": "stdout",
     "output_type": "stream",
     "text": [
      "313/313 [==============================] - 4s 13ms/step - loss: 0.6170 - accuracy: 0.9341\n",
      "Test loss 0.6170, accuracy 93.41%\n"
     ]
    }
   ],
   "source": [
    "score = model.evaluate(x_test, y_test, verbose=1)\n",
    "print(\"Test loss {:.4f}, accuracy {:.2f}%\".format(score[0], score[1] * 100))"
   ]
  },
  {
   "cell_type": "markdown",
   "metadata": {},
   "source": [
    "### Post-training Quantization\n",
    "\n",
    "These methods performs quantization on already trained models. We don't need to develop a new model architecture, but we can start with an existing floating point model and quantize it to obtain a fixed point quantized model with almost no accuracy loss, without needing to re-train the model. The **model size reduction** that we can obtain is a **factor of 4**, with negligible accuracy loss.  \n",
    "\n",
    "We gain also other benefit: reducing the precision at which this data is stored leads to less working memory needed; most processors allow for faster processing of 8-bit data; the reduction in the amount of data movement can have a significant impact also on the power consumption.\n",
    "\n",
    "All the factors above translate into **faster inference**, with a typical **speedup of 2-3x** due to the reduced precision for both memory accesses and computations. \n",
    "\n",
    "The cost is usually o modest decrease in accuracy.\n",
    "\n",
    "There are some ways in which post-training quantization can be done. "
   ]
  },
  {
   "cell_type": "markdown",
   "metadata": {},
   "source": [
    "#### Dynamic Range Quantization\n",
    "\n",
    "It is the simplest form of post-training quantization which statically quantizes the weights from floating point to 8-bits of precision and dynamically quantizes the activations at inference. This means that the activations are always stored in float 32, however, they are converted to 8-bit integers while processing and back to floating point after the processing is done. \n",
    "\n",
    "Following are the steps to perform post-training quantization on our keras model. First of all, we save the  model into a single HDF5 file which will contain the architecture, weights, training configuration (loss, optimizer) and the state of the optimizer:"
   ]
  },
  {
   "cell_type": "code",
   "execution_count": 38,
   "metadata": {},
   "outputs": [
    {
     "name": "stdout",
     "output_type": "stream",
     "text": [
      "Saved model to disk\n"
     ]
    }
   ],
   "source": [
    "#Save the entire model in model.h5 file\n",
    "\n",
    "model.save(\"models/model.h5\")\n",
    "print(\"Saved model to disk\")"
   ]
  },
  {
   "cell_type": "markdown",
   "metadata": {},
   "source": [
    "The we can use the TensorFlow Lite converter with and without quantization:"
   ]
  },
  {
   "cell_type": "code",
   "execution_count": 39,
   "metadata": {},
   "outputs": [
    {
     "name": "stderr",
     "output_type": "stream",
     "text": [
      "2022-05-18 15:17:12.896617: W tensorflow/python/util/util.cc:368] Sets are not currently considered sequences, but this may change in the future, so consider avoiding using them.\n",
      "2022-05-18 15:17:15.429669: W tensorflow/compiler/mlir/lite/python/tf_tfl_flatbuffer_helpers.cc:357] Ignored output_format.\n",
      "2022-05-18 15:17:15.429686: W tensorflow/compiler/mlir/lite/python/tf_tfl_flatbuffer_helpers.cc:360] Ignored drop_control_dependency.\n",
      "2022-05-18 15:17:15.430376: I tensorflow/cc/saved_model/reader.cc:43] Reading SavedModel from: /var/folders/np/rkxq5s9x6lzdnx_24x0j3jx80000gn/T/tmpfs_xjl_n\n",
      "2022-05-18 15:17:15.432332: I tensorflow/cc/saved_model/reader.cc:78] Reading meta graph with tags { serve }\n",
      "2022-05-18 15:17:15.432350: I tensorflow/cc/saved_model/reader.cc:119] Reading SavedModel debug info (if present) from: /var/folders/np/rkxq5s9x6lzdnx_24x0j3jx80000gn/T/tmpfs_xjl_n\n",
      "2022-05-18 15:17:15.440059: I tensorflow/cc/saved_model/loader.cc:228] Restoring SavedModel bundle.\n",
      "2022-05-18 15:17:15.488541: I tensorflow/cc/saved_model/loader.cc:212] Running initialization op on SavedModel bundle at path: /var/folders/np/rkxq5s9x6lzdnx_24x0j3jx80000gn/T/tmpfs_xjl_n\n",
      "2022-05-18 15:17:15.503273: I tensorflow/cc/saved_model/loader.cc:301] SavedModel load for tags { serve }; Status: success: OK. Took 72899 microseconds.\n",
      "2022-05-18 15:17:15.527463: I tensorflow/compiler/mlir/tensorflow/utils/dump_mlir_util.cc:237] disabling MLIR crash reproducer, set env var `MLIR_CRASH_REPRODUCER_DIRECTORY` to enable.\n"
     ]
    },
    {
     "data": {
      "text/plain": [
       "7185856"
      ]
     },
     "execution_count": 39,
     "metadata": {},
     "output_type": "execute_result"
    }
   ],
   "source": [
    "model = tf.keras.models.load_model('models/model.h5')\n",
    "\n",
    "converter = tf.lite.TFLiteConverter.from_keras_model(model)\n",
    "tflite_model = converter.convert()\n",
    "open(\"models/converted_model.tflite\", \"wb\").write(tflite_model)"
   ]
  },
  {
   "cell_type": "code",
   "execution_count": 40,
   "metadata": {},
   "outputs": [
    {
     "name": "stderr",
     "output_type": "stream",
     "text": [
      "2022-05-18 15:18:09.450010: W tensorflow/compiler/mlir/lite/python/tf_tfl_flatbuffer_helpers.cc:357] Ignored output_format.\n",
      "2022-05-18 15:18:09.450027: W tensorflow/compiler/mlir/lite/python/tf_tfl_flatbuffer_helpers.cc:360] Ignored drop_control_dependency.\n",
      "2022-05-18 15:18:09.450150: I tensorflow/cc/saved_model/reader.cc:43] Reading SavedModel from: /var/folders/np/rkxq5s9x6lzdnx_24x0j3jx80000gn/T/tmpnoq001y5\n",
      "2022-05-18 15:18:09.452015: I tensorflow/cc/saved_model/reader.cc:78] Reading meta graph with tags { serve }\n",
      "2022-05-18 15:18:09.452030: I tensorflow/cc/saved_model/reader.cc:119] Reading SavedModel debug info (if present) from: /var/folders/np/rkxq5s9x6lzdnx_24x0j3jx80000gn/T/tmpnoq001y5\n",
      "2022-05-18 15:18:09.464238: I tensorflow/cc/saved_model/loader.cc:228] Restoring SavedModel bundle.\n",
      "2022-05-18 15:18:09.516164: I tensorflow/cc/saved_model/loader.cc:212] Running initialization op on SavedModel bundle at path: /var/folders/np/rkxq5s9x6lzdnx_24x0j3jx80000gn/T/tmpnoq001y5\n",
      "2022-05-18 15:18:09.531550: I tensorflow/cc/saved_model/loader.cc:301] SavedModel load for tags { serve }; Status: success: OK. Took 81401 microseconds.\n"
     ]
    },
    {
     "data": {
      "text/plain": [
       "1804024"
      ]
     },
     "execution_count": 40,
     "metadata": {},
     "output_type": "execute_result"
    }
   ],
   "source": [
    "converter.optimizations = [tf.lite.Optimize.DEFAULT]\n",
    "tflite_quant_model = converter.convert()\n",
    "open(\"models/converted_quant_model.tflite\", \"wb\").write(tflite_quant_model)"
   ]
  },
  {
   "cell_type": "markdown",
   "metadata": {},
   "source": [
    "We can now evaluate the reduction in size of the model. Notice, it is approximately 4x:"
   ]
  },
  {
   "cell_type": "code",
   "execution_count": 41,
   "metadata": {},
   "outputs": [
    {
     "name": "stdout",
     "output_type": "stream",
     "text": [
      "Float model in Mb: 6.85296630859375\n",
      "Quantized model in Mb: 1.7204513549804688\n",
      "Compression ratio: 3.98323747355911\n"
     ]
    }
   ],
   "source": [
    "print(\"Float model in Mb:\", os.path.getsize('models/converted_model.tflite') / float(2**20))\n",
    "print(\"Quantized model in Mb:\", os.path.getsize('models/converted_quant_model.tflite') / float(2**20))\n",
    "print(\"Compression ratio:\", os.path.getsize('models/converted_model.tflite')/os.path.getsize('models/converted_quant_model.tflite'))"
   ]
  },
  {
   "cell_type": "markdown",
   "metadata": {},
   "source": [
    "We can also evaluate the accuracy of converted model on the same test set. In order to make inference with TF Lite, we need to initialize the interpreter, load it with the model, allocate the tensor and get the input and output tensors, preprocess data by reading it into a tensor,  make the inference on the input tensor using the interpreter by invoking it, and finally obtain the result."
   ]
  },
  {
   "cell_type": "code",
   "execution_count": 42,
   "metadata": {},
   "outputs": [
    {
     "name": "stdout",
     "output_type": "stream",
     "text": [
      "93.39\n"
     ]
    }
   ],
   "source": [
    "interpreter = tf.lite.Interpreter(model_path=\"models/converted_quant_model.tflite\")\n",
    "interpreter.allocate_tensors()\n",
    "input_details = interpreter.get_input_details()\n",
    "output_details = interpreter.get_output_details()\n",
    "input_shape = input_details[0]['shape']\n",
    "acc=0\n",
    "for i in range(len(x_test)):\n",
    "    input_data = x_test[i].reshape(input_shape)\n",
    "    interpreter.set_tensor(input_details[0]['index'], input_data)\n",
    "    interpreter.invoke()\n",
    "    output_data = interpreter.get_tensor(output_details[0]['index'])\n",
    "    if(np.argmax(output_data) == np.argmax(y_test[i])):\n",
    "        acc+=1\n",
    "acc = acc/len(x_test)\n",
    "print(acc*100)"
   ]
  },
  {
   "cell_type": "markdown",
   "metadata": {},
   "source": [
    "We can decide to quantizes the float32 weights into float16, resulting in 2x size reduction. It is generally used with specialized hardware like GPUs which can directly work with float16, thereby providing some speed-up over float32 operations."
   ]
  },
  {
   "cell_type": "code",
   "execution_count": 174,
   "metadata": {},
   "outputs": [],
   "source": [
    "converter.optimizations = [tf.lite.Optimize.DEFAULT]\n",
    "converter.target_spec.supported_types = [tf.float16]"
   ]
  },
  {
   "cell_type": "markdown",
   "metadata": {},
   "source": [
    "#### Static Quantization\n",
    "\n",
    "Static quantization pre-computes the scales and zero points also for all the activation tensors. Therefore, the overhead of computing the scales and zero points is eliminated. The activation tensors could be stored as integer tensors in the memory without having to be converted from floating point tensors. The way to determine the scales and zero points for all the activation tensors is simple. Given a floating point neural network, we would just have to run the neural network using some representative unlabeled data, collect the distribution statistics for all the activation layers. Then we could use the distribution statistics to compute the scales and zero points using the mathematical equations we have described earlier in the article.\n",
    "\n",
    "During inference, because all the computations were conducted seamlessly using integer ops, the inference performance is really fast. The only short-coming is that we have to prepare representative unlabeled data. If the data is not representative, the scales and zero points computed might not reflect the true scenario during inference, and the inference accuracy will be harmed."
   ]
  },
  {
   "cell_type": "code",
   "execution_count": 45,
   "metadata": {},
   "outputs": [],
   "source": [
    "mnist_train, _ = tf.keras.datasets.mnist.load_data()\n",
    "images = tf.cast(mnist_train[0], tf.float32) / 255.0\n",
    "mnist_ds = tf.data.Dataset.from_tensor_slices((images)).batch(1)\n",
    "\n",
    "def representative_data_gen():\n",
    "  for input_value in mnist_ds.take(100):\n",
    "    yield [input_value]\n",
    "    \n",
    "converter.representative_dataset = representative_data_gen"
   ]
  },
  {
   "cell_type": "markdown",
   "metadata": {},
   "source": [
    "### Quantization Aware Training\n",
    "\n",
    "Quantization introduces information loss and therefore the inference accuracies from the quantized integer models are inevitably lower than that from the floating point models. Such information loss is due to that the floating points after quantization and de-quantization is not exactly recoverable. Mathematically, it means:\n",
    "\n",
    "$\\begin{align}\n",
    "x = f_d(f_q(x,s_x,z_x),s_x,z_x) + \\Delta_x\n",
    "\\end{align}$\n",
    "\n",
    "If $\\Delta_x=0$ the inference accuracies from the quantized integer models would be exactly the same as the inference accuracies from the floating point models. Unfortunately, it is not. The idea of quantization aware training is to ask the neural networks to take the effect of such information loss into account during training. Therefore, during inference, the model will have less sacrifice to the inference accuracies. Therefore, in quantization aware training, we added a quantization and a de-quantization layer for each of the tensors. Mathematically, it means\n",
    "\n",
    "$\\begin{align}\n",
    "\\hat{x} = f_d(f_q(x,s_x,z_x),s_x,z_x) = s_x(\\text{clip}(\\text{round}(\\frac{x}{s_x}+z_x),\\alpha_q,\\beta_q)-z_x)\n",
    "\\end{align}$\n",
    "\n",
    "where the scale and zero point could be collected using the same method of static quantization. All the data types for the quantized tensors are still floating point tensors and the training is supposed to be done normally as if the quantization and de-quantization layers were not existed. \n",
    "\n",
    "The major problem of quantization aware training is that such quantization and de-quantization layers are not differentiable. In practice, the [straight through estimation (STE)](https://arxiv.org/abs/1308.3432) derivative approximation works well for quantization aware training. Essentially, it treats the quantization and de-quantization function as if it were identity function in the clipping range $[\\alpha, \\beta]$ and constant function outside the clipping range. Therefore, the resulting derivatives are 1 in the clippings range  and 0 outside the clipping range \n",
    "Mathematically, it could be described as:\n",
    "\n",
    "$\\begin{align}\n",
    "\\frac{\\partial \\hat{x}}{\\partial y}= \\Bigg\\{\\begin{matrix} 1 \\enspace  \\text{if} \\enspace \\alpha \\lt x \\lt  \\beta  \\\\ 0 \\enspace \\enspace \\enspace \\enspace \\enspace \\enspace \\enspace \\text{else} \\end{matrix}  \n",
    "\\end{align}$\n",
    "\n",
    "<img src=\"./images/quantization-aware-training.png\" width=\"500\"> \n",
    "\n",
    "Quantization Aware Training typically provides higher accuracies as compared to post-training quantization. "
   ]
  },
  {
   "cell_type": "code",
   "execution_count": 22,
   "metadata": {},
   "outputs": [
    {
     "name": "stdout",
     "output_type": "stream",
     "text": [
      "Requirement already satisfied: tensorflow-model-optimization in /Users/riccardo.berta/opt/anaconda3/lib/python3.9/site-packages (0.7.2)\n",
      "Requirement already satisfied: six~=1.10 in /Users/riccardo.berta/opt/anaconda3/lib/python3.9/site-packages (from tensorflow-model-optimization) (1.16.0)\n",
      "Requirement already satisfied: numpy~=1.14 in /Users/riccardo.berta/opt/anaconda3/lib/python3.9/site-packages (from tensorflow-model-optimization) (1.21.2)\n",
      "Requirement already satisfied: dm-tree~=0.1.1 in /Users/riccardo.berta/opt/anaconda3/lib/python3.9/site-packages (from tensorflow-model-optimization) (0.1.7)\n"
     ]
    }
   ],
   "source": [
    "!pip install --upgrade tensorflow-model-optimization"
   ]
  },
  {
   "cell_type": "markdown",
   "metadata": {},
   "source": [
    "#### Quantizing the whole model"
   ]
  },
  {
   "cell_type": "code",
   "execution_count": 43,
   "metadata": {},
   "outputs": [
    {
     "name": "stdout",
     "output_type": "stream",
     "text": [
      "Model: \"sequential\"\n",
      "_________________________________________________________________\n",
      " Layer (type)                Output Shape              Param #   \n",
      "=================================================================\n",
      " quantize_layer (QuantizeLay  (None, 784)              3         \n",
      " er)                                                             \n",
      "                                                                 \n",
      " quant_dropout (QuantizeWrap  (None, 784)              1         \n",
      " perV2)                                                          \n",
      "                                                                 \n",
      " quant_dense (QuantizeWrappe  (None, 1000)             785005    \n",
      " rV2)                                                            \n",
      "                                                                 \n",
      " quant_dropout_1 (QuantizeWr  (None, 1000)             1         \n",
      " apperV2)                                                        \n",
      "                                                                 \n",
      " quant_dense_1 (QuantizeWrap  (None, 1000)             1001005   \n",
      " perV2)                                                          \n",
      "                                                                 \n",
      " quant_dropout_2 (QuantizeWr  (None, 1000)             1         \n",
      " apperV2)                                                        \n",
      "                                                                 \n",
      " quant_dense_2 (QuantizeWrap  (None, 10)               10015     \n",
      " perV2)                                                          \n",
      "                                                                 \n",
      "=================================================================\n",
      "Total params: 1,796,031\n",
      "Trainable params: 1,796,010\n",
      "Non-trainable params: 21\n",
      "_________________________________________________________________\n"
     ]
    }
   ],
   "source": [
    "import tensorflow_model_optimization as tfmot\n",
    "\n",
    "quantize_model = tfmot.quantization.keras.quantize_model\n",
    "q_aware_model = quantize_model(model)\n",
    "\n",
    "q_aware_model.compile(loss=keras.losses.categorical_crossentropy, \n",
    "              optimizer='adam', \n",
    "              metrics=['accuracy'])\n",
    "\n",
    "q_aware_model.summary()"
   ]
  },
  {
   "cell_type": "code",
   "execution_count": 44,
   "metadata": {},
   "outputs": [
    {
     "name": "stdout",
     "output_type": "stream",
     "text": [
      "Epoch 1/3\n",
      "469/469 [==============================] - 18s 38ms/step - loss: 0.6661 - accuracy: 0.9061 - val_loss: 0.5452 - val_accuracy: 0.9429\n",
      "Epoch 2/3\n",
      "469/469 [==============================] - 17s 36ms/step - loss: 0.6582 - accuracy: 0.9080 - val_loss: 0.5364 - val_accuracy: 0.9486\n",
      "Epoch 3/3\n",
      "469/469 [==============================] - 18s 38ms/step - loss: 0.6576 - accuracy: 0.9062 - val_loss: 0.5332 - val_accuracy: 0.9447\n"
     ]
    }
   ],
   "source": [
    "hist = q_aware_model.fit(x_train, y_train, batch_size=128,\n",
    "                         epochs=3, verbose=1,\n",
    "                         validation_data=(x_test,y_test))"
   ]
  },
  {
   "cell_type": "code",
   "execution_count": 45,
   "metadata": {},
   "outputs": [
    {
     "name": "stdout",
     "output_type": "stream",
     "text": [
      "313/313 [==============================] - 3s 9ms/step - loss: 0.6170 - accuracy: 0.9341\n",
      "313/313 [==============================] - 4s 13ms/step - loss: 0.5332 - accuracy: 0.9447\n",
      "Baseline test accuracy: 93.40999722480774\n",
      "Quant test accuracy: 94.47000026702881\n"
     ]
    }
   ],
   "source": [
    "_, baseline_model_accuracy = model.evaluate(x_test, y_test, verbose=1)\n",
    "\n",
    "_, q_aware_model_accuracy = q_aware_model.evaluate(x_test, y_test, verbose=1)\n",
    "\n",
    "print('Baseline test accuracy:', baseline_model_accuracy*100)\n",
    "print('Quant test accuracy:', q_aware_model_accuracy*100)"
   ]
  },
  {
   "cell_type": "markdown",
   "metadata": {},
   "source": [
    "#### Quantizing some layers\n",
    "\n",
    "This second method gives us more granularity in order to avoid quantization of layers that are more important for accuracy (for example, later layers instead of the first layers). In that case we need to annotate the layer we want to quantize:"
   ]
  },
  {
   "cell_type": "code",
   "execution_count": 47,
   "metadata": {},
   "outputs": [],
   "source": [
    "annotate = tfmot.quantization.keras.quantize_annotate_layer"
   ]
  },
  {
   "cell_type": "code",
   "execution_count": 48,
   "metadata": {},
   "outputs": [],
   "source": [
    "model_annotated = Sequential()\n",
    "model_annotated.add(layers.Dropout(0.2,input_shape=(784,)))\n",
    "model_annotated.add(layers.Dense(1000, kernel_regularizer = regularizers.l2(0.01), activation='relu'))\n",
    "model_annotated.add(layers.Dropout(0.5))\n",
    "model_annotated.add(annotate(layers.Dense(1000, kernel_regularizer = regularizers.l2(0.01), activation='relu')))\n",
    "model_annotated.add(layers.Dropout(0.5))\n",
    "model_annotated.add(layers.Dense(10,  activation='softmax'))"
   ]
  },
  {
   "cell_type": "code",
   "execution_count": 49,
   "metadata": {},
   "outputs": [
    {
     "name": "stdout",
     "output_type": "stream",
     "text": [
      "Model: \"sequential_1\"\n",
      "_________________________________________________________________\n",
      " Layer (type)                Output Shape              Param #   \n",
      "=================================================================\n",
      " dropout_3 (Dropout)         (None, 784)               0         \n",
      "                                                                 \n",
      " dense_3 (Dense)             (None, 1000)              785000    \n",
      "                                                                 \n",
      " quant_dropout_4 (QuantizeWr  (None, 1000)             1         \n",
      " apperV2)                                                        \n",
      "                                                                 \n",
      " quant_dense_4 (QuantizeWrap  (None, 1000)             1001005   \n",
      " perV2)                                                          \n",
      "                                                                 \n",
      " dropout_5 (Dropout)         (None, 1000)              0         \n",
      "                                                                 \n",
      " dense_5 (Dense)             (None, 10)                10010     \n",
      "                                                                 \n",
      "=================================================================\n",
      "Total params: 1,796,016\n",
      "Trainable params: 1,796,010\n",
      "Non-trainable params: 6\n",
      "_________________________________________________________________\n"
     ]
    }
   ],
   "source": [
    "quant_aware_model_annotated = tfmot.quantization.keras.quantize_apply(model_annotated)\n",
    "quant_aware_model_annotated.summary()"
   ]
  },
  {
   "cell_type": "code",
   "execution_count": 50,
   "metadata": {},
   "outputs": [],
   "source": [
    "quant_aware_model_annotated.compile(loss=keras.losses.categorical_crossentropy, \n",
    "                                    optimizer='adam', \n",
    "                                    metrics=['accuracy'])"
   ]
  },
  {
   "cell_type": "code",
   "execution_count": 51,
   "metadata": {},
   "outputs": [
    {
     "name": "stdout",
     "output_type": "stream",
     "text": [
      "Epoch 1/3\n",
      "469/469 [==============================] - 14s 29ms/step - loss: 2.0394 - accuracy: 0.8553 - val_loss: 0.6911 - val_accuracy: 0.9208\n",
      "Epoch 2/3\n",
      "469/469 [==============================] - 15s 31ms/step - loss: 0.7628 - accuracy: 0.8906 - val_loss: 0.6396 - val_accuracy: 0.9300\n",
      "Epoch 3/3\n",
      "469/469 [==============================] - 16s 34ms/step - loss: 0.7289 - accuracy: 0.8982 - val_loss: 0.6096 - val_accuracy: 0.9372\n"
     ]
    }
   ],
   "source": [
    "hist = quant_aware_model_annotated.fit(x_train, y_train, batch_size=128,\n",
    "                                       epochs=3, verbose=1, validation_data=(x_test,y_test))"
   ]
  },
  {
   "cell_type": "code",
   "execution_count": 52,
   "metadata": {},
   "outputs": [
    {
     "name": "stdout",
     "output_type": "stream",
     "text": [
      "313/313 [==============================] - 3s 9ms/step - loss: 0.6170 - accuracy: 0.9341\n",
      "313/313 [==============================] - 4s 12ms/step - loss: 0.5332 - accuracy: 0.9447\n",
      "313/313 [==============================] - 3s 10ms/step - loss: 0.6096 - accuracy: 0.9372\n",
      "Baseline test accuracy: 93.40999722480774\n",
      "Quant test accuracy: 94.47000026702881\n",
      "Quant annotated test accuracy: 93.72000098228455\n"
     ]
    }
   ],
   "source": [
    "_, baseline_model_accuracy = model.evaluate(x_test, y_test, verbose=1)\n",
    "\n",
    "_, q_aware_model_accuracy = q_aware_model.evaluate(x_test, y_test, verbose=1)\n",
    "\n",
    "_, quant_aware_model_accuracy = quant_aware_model_annotated.evaluate(x_test, y_test, verbose=1)\n",
    "\n",
    "print('Baseline test accuracy:', baseline_model_accuracy*100)\n",
    "print('Quant test accuracy:', q_aware_model_accuracy*100)\n",
    "print('Quant annotated test accuracy:', quant_aware_model_accuracy*100)"
   ]
  }
 ],
 "metadata": {
  "colab": {
   "collapsed_sections": [],
   "name": "math_differential_calculus",
   "provenance": [],
   "toc_visible": true
  },
  "interpreter": {
   "hash": "8aeb84091b1f1fb8d8b9efbf1e96a552fa0144c39bfbc7f744113ad2216f701d"
  },
  "kernelspec": {
   "display_name": "Python 3 (ipykernel)",
   "language": "python",
   "name": "python3"
  },
  "language_info": {
   "codemirror_mode": {
    "name": "ipython",
    "version": 3
   },
   "file_extension": ".py",
   "mimetype": "text/x-python",
   "name": "python",
   "nbconvert_exporter": "python",
   "pygments_lexer": "ipython3",
   "version": "3.9.7"
  },
  "pycharm": {
   "stem_cell": {
    "cell_type": "raw",
    "metadata": {
     "collapsed": false
    },
    "source": []
   }
  }
 },
 "nbformat": 4,
 "nbformat_minor": 4
}
