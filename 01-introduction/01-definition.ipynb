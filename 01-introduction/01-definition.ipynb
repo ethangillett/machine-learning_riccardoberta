{
 "cells": [
  {
   "cell_type": "markdown",
   "metadata": {},
   "source": [
    "# Introduction\n",
    "\n",
    "[![Open In Colab](https://colab.research.google.com/assets/colab-badge.svg)](https://colab.research.google.com/github/riccardoberta/machine-learning/blob/master/01-introduction/01-definition.ipynb)\n",
    "\n",
    "Fundamentally, machine learning is a technique for using computers to predict things based on past observations. Creating a machine learning program is different from the usual process of writing code. In a traditional piece of software, a programmer designs an algorithm that takes an input, applies various rules, and returns an output. The algorithm’s internal operations are planned out by the programmer and implemented explicitly through lines of code. \n",
    "This approach works fine for many problems. For example, we know that water boils at 100°C at sea level, so it’s easy to write a program that can predict whether water is boiling based on its current temperature and altitude. But in many cases, it can be difficult to know the exact combination of factors that predicts a given state. To create a machine learning program, a programmer feeds data into a special kind of algorithm and lets the algorithm discover the rules. This means that as programmers, we can create programs that make predictions based on complex data **without having to understand all of the complexity ourselves**. The machine learning algorithm **builds a model** of the system based on the data we provide, through a process we call **training**. The model is a type of computer program. We run data through this model to make predictions, in a process called **inference**.\n",
    "\n",
    "In other words, in traditional programming **we use our human thinking to come up with a solution** and formulate it as a precise program a computer can execute. In machine learning, we don't try to write down a program by ourselves. Instead, we collect input data (dashboard video and other sensor feeds of a car, for example) and desired target values (the throttle level and the angle of the steering wheel). Next, we instruct a computer **to find a program** that computes an output for each input value (a program that drives a car given the sensor inputs).\n",
    "\n",
    "**Traditionally programmers automate tasks by writing programs. In machine learning, a computer finds a program that fits to data.**\n",
    "\n",
    "Developing a machine learning application is even more iterative and explorative process than software engineering. We will apply Machine learning to problems that are too complicated for humans to figure out. Therefore, we have to embrace experimental attitude and be prepared to test a few approaches before settling on a satisfying one.\n",
    "\n",
    "<img src=\"./images/traditional-vs-ml.png\" width=\"500\">\n",
    "\n",
    "1. [A brief history](#A-brief-history)\n",
    "2. [Models](#Models)\n",
    "3. [Main Challenges](#Main-Challenges)\n",
    "4. [Testing and Validating](#Testing-and-Validating)\n",
    "5. [No free-lunch theorem](#No-free-lunch-theorem)"
   ]
  },
  {
   "cell_type": "markdown",
   "metadata": {},
   "source": [
    "## A brief History\n",
    "\n",
    "<img src=\"./images/history.png\" width=\"900\">"
   ]
  },
  {
   "cell_type": "markdown",
   "metadata": {},
   "source": [
    "The idea of creating a 'thinking' machine is at least as old as modern computing. In his paper [Alan Turing. \"Computing Machinery and Intelligence\"](https://academic.oup.com/mind/article/LIX/236/433/986238) described several criteria to asses whether a machine could be said be intelligent (**Turing test**).  Early work was largely influenced by the working theories of the brain. The first guys on the scene were Walter Pitts and Warren McCulloch, they developed a technique known as **thresholded logic unit**, that was designed to mimic the way a neuron was thought to work. However, the first real precursor to modern neural networks was the **perceptron** by Frank Rosenblatt, he presented aa learning procedure. Rosenblatt in 1959 he remarked that \"the perceptron is the embryo of an electronic computer that the Navy expects will be able to walk, talk, see, write, reproduce itself and be conscious of its existence\". In the same period, Bernard Widrow and Ted Hoff introduced the ADALINE system (Adaptive Linear Element). Like the perceptron, ADALINE is single-layer, however it introduces the concept of **loss function** relying on the output of the artificial neuron before the quantization (i.e. on a continuous value). \n",
    "\n",
    "After this first golden age, in 1968 Marvin Minsky, one of the fathers of AI, pointed ount that something was wrong. He showed that the perceptron was incapable of learning the simple XOR function. Worse, he proved that it was theoretically impossible for it to learn such a function, no matter how long you let it train. This isn’t surprising today (as the model is linear and the XOR function is nonlinear), but at the time this was enough to kill all research on neural nets and usher in the first **AI winter**.\n",
    "\n",
    "In 1986 signs of life began to return to the neural net community. Geoff Hinton, David Rumelhart and Ronald Williams published a paper entitled [\"Learning representations by back-propagating errors\"](http://www.cs.utoronto.ca/~hinton/absps/naturebp.pdf) that showed that neural nets with many hidden layers could be effectively trained by a simple procedure. This would allow to get around the weakness of the perceptron because the additional layers provides the network with the ability to learn nonlinear functions. Around the same time it was shown that such networks had the ability to learn any function, a result known as the **universal approximation theorem**. \n",
    "This algorithm lead to some early successes, notably in training convoluational neural nets to recognize handwritten digits.\n",
    "\n",
    "Unfortunately, neural nets were in for another deep freeze. The approach didn’t scale to larger problems, and by the 90s the **support vector machine** became the method of choice, and neural nets were moved back into storage. In hindsight, neural nets were simply an idea before their time.\n",
    "\n",
    "Around 2006, Hinton once again introduced the idea of unsupervised pretraining and deep belief nets. The idea was to train a simple two-layer model, freeze all the parameters, stick on a new layer on top and train just the parameters for the new layer. You would keep adding and training layers in this greedy fashion until you had a **deep network**, and then use the result of this process to initialize the parameters of a traditional neural network. Using this strategy, people were able to train networks that were deeper than previous attempts, prompting a rebranding of 'neural networks' to 'deep learning'. \n",
    "\n",
    "With the renewed interest, more and more neural network papers began to be presented, however they hardly achieved state-of-art performance, one sentence at this time was \"neural networks are the second best way to do almost anything\". Things would finally come to a head in 2012 on the Large Scale Visual Recognition Challenge(LSVRC). In 2010, a large database known as **Imagenet** (containing millions of labeled images) was created and published and used at the annual LSVRC as a contest to build the most performat computer vision models. In the first two years of the contest, the top models had error rates of 28% and 26%. In 2012, Alex Krizhevsky, Ilya Sutskever, and Geoff Hinton entered a submission (**Alexnet**) that would halve the existing error rate to 16%. The model combined several critical components that would go one to become mainstays in deep learning models, probably the most important was the use of GPU to train the model. "
   ]
  },
  {
   "cell_type": "markdown",
   "metadata": {},
   "source": [
    "Many of the core concepts for deep learning were in place by the 80s or 90s, so what happened in the past 10 years that changed things? Though there are many factors, the two most crucial components appear to be appearance of **large, high-quality labeled datasets**, deep learning is a furnace that needs a lot of fuel to keep burning, and we finally have enough fuel; and **massively parallel computing with GPUs and TPUs**, it turns out that neural nets are actually just a bunch of floating point calculations that you can do in parallel, the transition from CPU-based training to GPU-based has resulted in massive speed ups for model training.\n",
    "\n",
    "<img src=\"./images/datasets.png\" width=\"900\">\n",
    "\n",
    "<img src=\"./images/models_size.png\" width=\"900\">\n",
    "\n",
    "[1] Adaptive linear element (Widrow and Hoff, 1960); [2] Neocognitron (1980);[3] GPU-accelerated convolutional network (2006); [4] Deep Boltzmann machine (2009a); [5] Unsupervised convolutional network (2009);[6] GPU-accelerated multilayer perceptron (2010); [7] Distributed autoencoder (2012); [8] Multi-GPU convolutional network (2012); [9] COTS HPC unsupervised convolutional network (2013); [10] GoogLeNet (2014)"
   ]
  },
  {
   "cell_type": "markdown",
   "metadata": {},
   "source": [
    "## Definition\n",
    "\n",
    "Before we can talk about machine learning, we need to talk about models. What is a **model**? It’s simply a specification of a mathematical relationship that exists between different variables.\n",
    "\n",
    "For instance, if you’re trying to raise money for your social networking site, you might build a **business model** that takes inputs like “number of users,” “ad revenue per user,” and “number of employees” and outputs your annual profit for the next several years. A **cookbook recipe** entails a model that relates inputs like “number of eaters” and “hungriness” to quantities of ingredients needed. And if you’ve ever watched poker on television, you know that each player’s **win probability** is estimated in real time based on a model that takes into account the cards that have been revealed so far and the distribution of cards in the deck. \n",
    "\n",
    "The business model is probably based on simple mathematical relationships: profit is revenue minus expenses, revenue is units sold times average price, and so on. The recipe model is probably based on trial and error—someone went in a kitchen and tried different combinations of ingredients until they found one they liked. And the poker model is based on probability theory, the rules of poker, and some reasonably innocuous assumptions about the random process by which cards are dealt.\n",
    "\n",
    "We’ll use **machine learning** to refer to creating and using models that are learned from data. Typically, the goal will be to use existing data to develop models that we can use to predict various outcomes for new data.\n",
    "\n",
    "One of the best definition is give by [Tom Mitchell, Machine Learning, 1998](http://www.cs.cmu.edu/~tom/mlbook.html): **a computer program is said to learn from experience (E) with respect to some task (T) and some performance measure (P), if its performance on T, as measured by P, improves with experience E.**\n",
    "\n",
    "As an example, in a spam classification problem, the task is to predict emails as span or not spam, the experience is the observed user labels as span or not spam and the perfromance measure is the number of emails that are correctly predicted."
   ]
  },
  {
   "cell_type": "markdown",
   "metadata": {},
   "source": [
    "### Supervised, Unsupervised and Reinforcement Learning\n",
    "\n",
    "There are many different approaches to machine learning. One of the most popular is deep learning, which is based on a simplified idea of how the human brain might work. In deep learning, a network of simulated neurons (represented by arrays of numbers) is trained to model the relationships between various inputs and outputs. Different architectures, or arrangements of simulated neurons, are useful for different tasks. For instance, some architectures excel at extracting meaning from image data, while other architectures work best for predicting the next value in a sequence.\n",
    "\n",
    "We can categorize machine learning appoached as **supervised** (in which there is a set of data labeled with the correct answers to learn from), **unsupervised** (in which there are no such labels), **semisupervised** (in which only some of the data are labeled), and **reinforcement** (in which, after making a series of predictions, the model gets a signal indicating how well it did)."
   ]
  },
  {
   "cell_type": "markdown",
   "metadata": {},
   "source": [
    "<table border=\"1\">\n",
    "<tr>\n",
    "    <td> <b>Question</b> </td>\n",
    "    <td style=\"border-left: 1px solid black\"> <b>Supervised</b> </td>\n",
    "    <td style=\"border-left: 1px solid black\"> <b>Unsupervised</b> </td>\n",
    "    <td style=\"border-left: 1px solid black\"> <b>Reinforcement</b> </td>\n",
    "</tr>\n",
    "<tr>\n",
    "    <td> Target </td>\n",
    "    <td style=\"border-left: 1px solid black\"> $f(x)=y$ </td>\n",
    "    <td style=\"border-left: 1px solid black\"> $x\\in X$ </td>\n",
    "    <td style=\"border-left: 1px solid black\"> $\\pi(s)=a$ </td>\n",
    "</tr>\n",
    "<tr>\n",
    "    <td> Target (rephrased) </td>\n",
    "    <td style=\"border-left: 1px solid black\"> Predict outputs given inputs</td>\n",
    "    <td style=\"border-left: 1px solid black\"> Discover structure in data </td>\n",
    "    <td style=\"border-left: 1px solid black\"> Find an optimal behavior </td>\n",
    "</tr>\n",
    "<tr>\n",
    "    <td> Data </td>\n",
    "    <td style=\"border-left: 1px solid black\"> $\\left\\{\\left(x,y\\right)\\right\\}$ supervisor's labels </td>\n",
    "    <td style=\"border-left: 1px solid black\"> $\\left\\{x\\right\\}$ unlabelled data </td>\n",
    "    <td style=\"border-left: 1px solid black\"> $\\left\\{\\left(s,a,r,s'\\right)\\right\\}$ experience samples </td>\n",
    "</tr>\n",
    "<tr>\n",
    "    <td> Output </td>\n",
    "    <td style=\"border-left: 1px solid black\"> Classifier or regressor</td>\n",
    "    <td style=\"border-left: 1px solid black\"> Clusters or dimension reduction </td>\n",
    "    <td style=\"border-left: 1px solid black\"> Policies, value functions </td>\n",
    "</tr>\n",
    "<tr>\n",
    "    <td> Key algorithms </td>\n",
    "    <td style=\"border-left: 1px solid black\"> Neural networks, SVMs, etc.</td>\n",
    "    <td style=\"border-left: 1px solid black\"> k-means, PCA, etc. </td>\n",
    "    <td style=\"border-left: 1px solid black\"> Q-learning, Policy Gradients, etc. </td>\n",
    "</tr>\n",
    "</table>"
   ]
  },
  {
   "cell_type": "markdown",
   "metadata": {},
   "source": [
    "### Deep Learning\n",
    "\n",
    "A major source of difficulty in many real-world Machine learning applications is that many of the factors of variation influence every single piece of data we are able to observe. The individual pixels in an image of a red car might be very close to black at night. The shape of the car’s silhouette depends on the viewing angle. Most applications require us to the factors of variation disentangle and discard the ones that we do not care about. Of course, it can be very difficult to extract such high-level, abstract features from raw data. Many of these factors of variation, such as a speaker’s accent, can be identified only using sophisticated, nearly human-level understanding of the data. When it is nearly as difficult to obtain a representation as to solve the original problem, representation learning does not, at first glance, seem to help us.\n",
    "**Deep learning** solves this central problem in representation learning by introducing representations that are expressed in terms of other, simpler representations. Deep learning allows the computer to build complex concepts out of simpler concepts. The following figure shows how the different parts of a Machine Learning system relate to each other, shaded boxes indicate components that are able to learn from data:\n",
    "\n",
    "<img src=\"./images/deep.png\" width=\"700\">"
   ]
  },
  {
   "cell_type": "markdown",
   "metadata": {},
   "source": [
    "### Model and instance based learning\n",
    "\n",
    "One way to categorize ML systems is by how they **generalize**. There are two main approaches to generalization: instance-based learning and model-based learning.\n",
    "The most trivial form of learning is simply to learn by heart, then generalizes to new cases using a similarity measure. This is called **instance-based learning**.\n",
    "Another way to generalize from a set of examples is to build a model of these examples, then use that model to make predictions. This is called **model-based learning**."
   ]
  },
  {
   "cell_type": "markdown",
   "metadata": {},
   "source": [
    "For example, suppose you want to know if money makes people happy, so you download the Better Life Index data from the OECD’s website (bli) as well as stats about GDP per capita from the IMF’s website (gdp). Then you join the tables and sort by GDP per capita."
   ]
  },
  {
   "cell_type": "code",
   "execution_count": 63,
   "metadata": {},
   "outputs": [],
   "source": [
    "import matplotlib.pyplot as plt\n",
    "import numpy as np\n",
    "import pandas as pd\n",
    "import sklearn.linear_model\n",
    "import sklearn.neighbors"
   ]
  },
  {
   "cell_type": "code",
   "execution_count": 64,
   "metadata": {},
   "outputs": [],
   "source": [
    "# Download the data\n",
    "import urllib\n",
    "remote = 'https://raw.githubusercontent.com/ageron/handson-ml2/master/datasets/lifesat/'\n",
    "urllib.request.urlretrieve(remote + 'oecd_bli_2015.csv', 'data/bli.csv');\n",
    "urllib.request.urlretrieve(remote + 'gdp_per_capita.csv', 'data/gdp.csv');"
   ]
  },
  {
   "cell_type": "code",
   "execution_count": 65,
   "metadata": {},
   "outputs": [
    {
     "data": {
      "text/html": [
       "<div>\n",
       "<style scoped>\n",
       "    .dataframe tbody tr th:only-of-type {\n",
       "        vertical-align: middle;\n",
       "    }\n",
       "\n",
       "    .dataframe tbody tr th {\n",
       "        vertical-align: top;\n",
       "    }\n",
       "\n",
       "    .dataframe thead th {\n",
       "        text-align: right;\n",
       "    }\n",
       "</style>\n",
       "<table border=\"1\" class=\"dataframe\">\n",
       "  <thead>\n",
       "    <tr style=\"text-align: right;\">\n",
       "      <th>Indicator</th>\n",
       "      <th>Air pollution</th>\n",
       "      <th>Assault rate</th>\n",
       "      <th>Consultation on rule-making</th>\n",
       "      <th>Dwellings without basic facilities</th>\n",
       "      <th>Educational attainment</th>\n",
       "      <th>Employees working very long hours</th>\n",
       "      <th>Employment rate</th>\n",
       "      <th>Homicide rate</th>\n",
       "      <th>Household net adjusted disposable income</th>\n",
       "      <th>Household net financial wealth</th>\n",
       "      <th>...</th>\n",
       "      <th>Long-term unemployment rate</th>\n",
       "      <th>Personal earnings</th>\n",
       "      <th>Quality of support network</th>\n",
       "      <th>Rooms per person</th>\n",
       "      <th>Self-reported health</th>\n",
       "      <th>Student skills</th>\n",
       "      <th>Time devoted to leisure and personal care</th>\n",
       "      <th>Voter turnout</th>\n",
       "      <th>Water quality</th>\n",
       "      <th>Years in education</th>\n",
       "    </tr>\n",
       "    <tr>\n",
       "      <th>Country</th>\n",
       "      <th></th>\n",
       "      <th></th>\n",
       "      <th></th>\n",
       "      <th></th>\n",
       "      <th></th>\n",
       "      <th></th>\n",
       "      <th></th>\n",
       "      <th></th>\n",
       "      <th></th>\n",
       "      <th></th>\n",
       "      <th></th>\n",
       "      <th></th>\n",
       "      <th></th>\n",
       "      <th></th>\n",
       "      <th></th>\n",
       "      <th></th>\n",
       "      <th></th>\n",
       "      <th></th>\n",
       "      <th></th>\n",
       "      <th></th>\n",
       "      <th></th>\n",
       "    </tr>\n",
       "  </thead>\n",
       "  <tbody>\n",
       "    <tr>\n",
       "      <th>Australia</th>\n",
       "      <td>13.0</td>\n",
       "      <td>2.1</td>\n",
       "      <td>10.5</td>\n",
       "      <td>1.1</td>\n",
       "      <td>76.0</td>\n",
       "      <td>14.02</td>\n",
       "      <td>72.0</td>\n",
       "      <td>0.8</td>\n",
       "      <td>31588.0</td>\n",
       "      <td>47657.0</td>\n",
       "      <td>...</td>\n",
       "      <td>1.08</td>\n",
       "      <td>50449.0</td>\n",
       "      <td>92.0</td>\n",
       "      <td>2.3</td>\n",
       "      <td>85.0</td>\n",
       "      <td>512.0</td>\n",
       "      <td>14.41</td>\n",
       "      <td>93.0</td>\n",
       "      <td>91.0</td>\n",
       "      <td>19.4</td>\n",
       "    </tr>\n",
       "    <tr>\n",
       "      <th>Austria</th>\n",
       "      <td>27.0</td>\n",
       "      <td>3.4</td>\n",
       "      <td>7.1</td>\n",
       "      <td>1.0</td>\n",
       "      <td>83.0</td>\n",
       "      <td>7.61</td>\n",
       "      <td>72.0</td>\n",
       "      <td>0.4</td>\n",
       "      <td>31173.0</td>\n",
       "      <td>49887.0</td>\n",
       "      <td>...</td>\n",
       "      <td>1.19</td>\n",
       "      <td>45199.0</td>\n",
       "      <td>89.0</td>\n",
       "      <td>1.6</td>\n",
       "      <td>69.0</td>\n",
       "      <td>500.0</td>\n",
       "      <td>14.46</td>\n",
       "      <td>75.0</td>\n",
       "      <td>94.0</td>\n",
       "      <td>17.0</td>\n",
       "    </tr>\n",
       "    <tr>\n",
       "      <th>Belgium</th>\n",
       "      <td>21.0</td>\n",
       "      <td>6.6</td>\n",
       "      <td>4.5</td>\n",
       "      <td>2.0</td>\n",
       "      <td>72.0</td>\n",
       "      <td>4.57</td>\n",
       "      <td>62.0</td>\n",
       "      <td>1.1</td>\n",
       "      <td>28307.0</td>\n",
       "      <td>83876.0</td>\n",
       "      <td>...</td>\n",
       "      <td>3.88</td>\n",
       "      <td>48082.0</td>\n",
       "      <td>94.0</td>\n",
       "      <td>2.2</td>\n",
       "      <td>74.0</td>\n",
       "      <td>509.0</td>\n",
       "      <td>15.71</td>\n",
       "      <td>89.0</td>\n",
       "      <td>87.0</td>\n",
       "      <td>18.9</td>\n",
       "    </tr>\n",
       "    <tr>\n",
       "      <th>Brazil</th>\n",
       "      <td>18.0</td>\n",
       "      <td>7.9</td>\n",
       "      <td>4.0</td>\n",
       "      <td>6.7</td>\n",
       "      <td>45.0</td>\n",
       "      <td>10.41</td>\n",
       "      <td>67.0</td>\n",
       "      <td>25.5</td>\n",
       "      <td>11664.0</td>\n",
       "      <td>6844.0</td>\n",
       "      <td>...</td>\n",
       "      <td>1.97</td>\n",
       "      <td>17177.0</td>\n",
       "      <td>90.0</td>\n",
       "      <td>1.6</td>\n",
       "      <td>69.0</td>\n",
       "      <td>402.0</td>\n",
       "      <td>14.97</td>\n",
       "      <td>79.0</td>\n",
       "      <td>72.0</td>\n",
       "      <td>16.3</td>\n",
       "    </tr>\n",
       "  </tbody>\n",
       "</table>\n",
       "<p>4 rows × 24 columns</p>\n",
       "</div>"
      ],
      "text/plain": [
       "Indicator  Air pollution  Assault rate  Consultation on rule-making  \\\n",
       "Country                                                               \n",
       "Australia           13.0           2.1                         10.5   \n",
       "Austria             27.0           3.4                          7.1   \n",
       "Belgium             21.0           6.6                          4.5   \n",
       "Brazil              18.0           7.9                          4.0   \n",
       "\n",
       "Indicator  Dwellings without basic facilities  Educational attainment  \\\n",
       "Country                                                                 \n",
       "Australia                                 1.1                    76.0   \n",
       "Austria                                   1.0                    83.0   \n",
       "Belgium                                   2.0                    72.0   \n",
       "Brazil                                    6.7                    45.0   \n",
       "\n",
       "Indicator  Employees working very long hours  Employment rate  Homicide rate  \\\n",
       "Country                                                                        \n",
       "Australia                              14.02             72.0            0.8   \n",
       "Austria                                 7.61             72.0            0.4   \n",
       "Belgium                                 4.57             62.0            1.1   \n",
       "Brazil                                 10.41             67.0           25.5   \n",
       "\n",
       "Indicator  Household net adjusted disposable income  \\\n",
       "Country                                               \n",
       "Australia                                   31588.0   \n",
       "Austria                                     31173.0   \n",
       "Belgium                                     28307.0   \n",
       "Brazil                                      11664.0   \n",
       "\n",
       "Indicator  Household net financial wealth  ...  Long-term unemployment rate  \\\n",
       "Country                                    ...                                \n",
       "Australia                         47657.0  ...                         1.08   \n",
       "Austria                           49887.0  ...                         1.19   \n",
       "Belgium                           83876.0  ...                         3.88   \n",
       "Brazil                             6844.0  ...                         1.97   \n",
       "\n",
       "Indicator  Personal earnings  Quality of support network  Rooms per person  \\\n",
       "Country                                                                      \n",
       "Australia            50449.0                        92.0               2.3   \n",
       "Austria              45199.0                        89.0               1.6   \n",
       "Belgium              48082.0                        94.0               2.2   \n",
       "Brazil               17177.0                        90.0               1.6   \n",
       "\n",
       "Indicator  Self-reported health  Student skills  \\\n",
       "Country                                           \n",
       "Australia                  85.0           512.0   \n",
       "Austria                    69.0           500.0   \n",
       "Belgium                    74.0           509.0   \n",
       "Brazil                     69.0           402.0   \n",
       "\n",
       "Indicator  Time devoted to leisure and personal care  Voter turnout  \\\n",
       "Country                                                               \n",
       "Australia                                      14.41           93.0   \n",
       "Austria                                        14.46           75.0   \n",
       "Belgium                                        15.71           89.0   \n",
       "Brazil                                         14.97           79.0   \n",
       "\n",
       "Indicator  Water quality  Years in education  \n",
       "Country                                       \n",
       "Australia           91.0                19.4  \n",
       "Austria             94.0                17.0  \n",
       "Belgium             87.0                18.9  \n",
       "Brazil              72.0                16.3  \n",
       "\n",
       "[4 rows x 24 columns]"
      ]
     },
     "execution_count": 65,
     "metadata": {},
     "output_type": "execute_result"
    }
   ],
   "source": [
    "# Load and prepare Life satisfaction data\n",
    "oecd_bli = pd.read_csv('data/bli.csv', thousands=',')\n",
    "oecd_bli = oecd_bli[oecd_bli[\"INEQUALITY\"]==\"TOT\"]\n",
    "oecd_bli = oecd_bli.pivot(index=\"Country\", columns=\"Indicator\", values=\"Value\")\n",
    "oecd_bli.head(4)"
   ]
  },
  {
   "cell_type": "code",
   "execution_count": 66,
   "metadata": {},
   "outputs": [
    {
     "data": {
      "text/plain": [
       "Country\n",
       "Australia    7.3\n",
       "Austria      6.9\n",
       "Belgium      6.9\n",
       "Brazil       7.0\n",
       "Canada       7.3\n",
       "Name: Life satisfaction, dtype: float64"
      ]
     },
     "execution_count": 66,
     "metadata": {},
     "output_type": "execute_result"
    }
   ],
   "source": [
    "oecd_bli[\"Life satisfaction\"].head()"
   ]
  },
  {
   "cell_type": "code",
   "execution_count": 67,
   "metadata": {},
   "outputs": [
    {
     "data": {
      "text/html": [
       "<div>\n",
       "<style scoped>\n",
       "    .dataframe tbody tr th:only-of-type {\n",
       "        vertical-align: middle;\n",
       "    }\n",
       "\n",
       "    .dataframe tbody tr th {\n",
       "        vertical-align: top;\n",
       "    }\n",
       "\n",
       "    .dataframe thead th {\n",
       "        text-align: right;\n",
       "    }\n",
       "</style>\n",
       "<table border=\"1\" class=\"dataframe\">\n",
       "  <thead>\n",
       "    <tr style=\"text-align: right;\">\n",
       "      <th></th>\n",
       "      <th>Subject Descriptor</th>\n",
       "      <th>Units</th>\n",
       "      <th>Scale</th>\n",
       "      <th>Country/Series-specific Notes</th>\n",
       "      <th>GDP per capita</th>\n",
       "      <th>Estimates Start After</th>\n",
       "    </tr>\n",
       "    <tr>\n",
       "      <th>Country</th>\n",
       "      <th></th>\n",
       "      <th></th>\n",
       "      <th></th>\n",
       "      <th></th>\n",
       "      <th></th>\n",
       "      <th></th>\n",
       "    </tr>\n",
       "  </thead>\n",
       "  <tbody>\n",
       "    <tr>\n",
       "      <th>Afghanistan</th>\n",
       "      <td>Gross domestic product per capita, current prices</td>\n",
       "      <td>U.S. dollars</td>\n",
       "      <td>Units</td>\n",
       "      <td>See notes for:  Gross domestic product, curren...</td>\n",
       "      <td>599.994</td>\n",
       "      <td>2013.0</td>\n",
       "    </tr>\n",
       "    <tr>\n",
       "      <th>Albania</th>\n",
       "      <td>Gross domestic product per capita, current prices</td>\n",
       "      <td>U.S. dollars</td>\n",
       "      <td>Units</td>\n",
       "      <td>See notes for:  Gross domestic product, curren...</td>\n",
       "      <td>3995.383</td>\n",
       "      <td>2010.0</td>\n",
       "    </tr>\n",
       "    <tr>\n",
       "      <th>Algeria</th>\n",
       "      <td>Gross domestic product per capita, current prices</td>\n",
       "      <td>U.S. dollars</td>\n",
       "      <td>Units</td>\n",
       "      <td>See notes for:  Gross domestic product, curren...</td>\n",
       "      <td>4318.135</td>\n",
       "      <td>2014.0</td>\n",
       "    </tr>\n",
       "    <tr>\n",
       "      <th>Angola</th>\n",
       "      <td>Gross domestic product per capita, current prices</td>\n",
       "      <td>U.S. dollars</td>\n",
       "      <td>Units</td>\n",
       "      <td>See notes for:  Gross domestic product, curren...</td>\n",
       "      <td>4100.315</td>\n",
       "      <td>2014.0</td>\n",
       "    </tr>\n",
       "  </tbody>\n",
       "</table>\n",
       "</div>"
      ],
      "text/plain": [
       "                                            Subject Descriptor         Units  \\\n",
       "Country                                                                        \n",
       "Afghanistan  Gross domestic product per capita, current prices  U.S. dollars   \n",
       "Albania      Gross domestic product per capita, current prices  U.S. dollars   \n",
       "Algeria      Gross domestic product per capita, current prices  U.S. dollars   \n",
       "Angola       Gross domestic product per capita, current prices  U.S. dollars   \n",
       "\n",
       "             Scale                      Country/Series-specific Notes  \\\n",
       "Country                                                                 \n",
       "Afghanistan  Units  See notes for:  Gross domestic product, curren...   \n",
       "Albania      Units  See notes for:  Gross domestic product, curren...   \n",
       "Algeria      Units  See notes for:  Gross domestic product, curren...   \n",
       "Angola       Units  See notes for:  Gross domestic product, curren...   \n",
       "\n",
       "             GDP per capita  Estimates Start After  \n",
       "Country                                             \n",
       "Afghanistan         599.994                 2013.0  \n",
       "Albania            3995.383                 2010.0  \n",
       "Algeria            4318.135                 2014.0  \n",
       "Angola             4100.315                 2014.0  "
      ]
     },
     "execution_count": 67,
     "metadata": {},
     "output_type": "execute_result"
    }
   ],
   "source": [
    "# Load and prepare GDP per capita data\n",
    "gdp_per_capita = pd.read_csv('data/gdp.csv', thousands=',', delimiter='\\t', encoding='latin1', na_values=\"n/a\")\n",
    "gdp_per_capita.rename(columns={\"2015\": \"GDP per capita\"}, inplace=True)\n",
    "gdp_per_capita.set_index(\"Country\", inplace=True)\n",
    "gdp_per_capita.head(4)"
   ]
  },
  {
   "cell_type": "code",
   "execution_count": 68,
   "metadata": {},
   "outputs": [
    {
     "data": {
      "text/html": [
       "<div>\n",
       "<style scoped>\n",
       "    .dataframe tbody tr th:only-of-type {\n",
       "        vertical-align: middle;\n",
       "    }\n",
       "\n",
       "    .dataframe tbody tr th {\n",
       "        vertical-align: top;\n",
       "    }\n",
       "\n",
       "    .dataframe thead th {\n",
       "        text-align: right;\n",
       "    }\n",
       "</style>\n",
       "<table border=\"1\" class=\"dataframe\">\n",
       "  <thead>\n",
       "    <tr style=\"text-align: right;\">\n",
       "      <th></th>\n",
       "      <th>GDP per capita</th>\n",
       "      <th>Life satisfaction</th>\n",
       "    </tr>\n",
       "    <tr>\n",
       "      <th>Country</th>\n",
       "      <th></th>\n",
       "      <th></th>\n",
       "    </tr>\n",
       "  </thead>\n",
       "  <tbody>\n",
       "    <tr>\n",
       "      <th>Brazil</th>\n",
       "      <td>8669.998</td>\n",
       "      <td>7.0</td>\n",
       "    </tr>\n",
       "    <tr>\n",
       "      <th>Mexico</th>\n",
       "      <td>9009.280</td>\n",
       "      <td>6.7</td>\n",
       "    </tr>\n",
       "    <tr>\n",
       "      <th>Russia</th>\n",
       "      <td>9054.914</td>\n",
       "      <td>6.0</td>\n",
       "    </tr>\n",
       "    <tr>\n",
       "      <th>Turkey</th>\n",
       "      <td>9437.372</td>\n",
       "      <td>5.6</td>\n",
       "    </tr>\n",
       "    <tr>\n",
       "      <th>Hungary</th>\n",
       "      <td>12239.894</td>\n",
       "      <td>4.9</td>\n",
       "    </tr>\n",
       "    <tr>\n",
       "      <th>Poland</th>\n",
       "      <td>12495.334</td>\n",
       "      <td>5.8</td>\n",
       "    </tr>\n",
       "    <tr>\n",
       "      <th>Chile</th>\n",
       "      <td>13340.905</td>\n",
       "      <td>6.7</td>\n",
       "    </tr>\n",
       "    <tr>\n",
       "      <th>Slovak Republic</th>\n",
       "      <td>15991.736</td>\n",
       "      <td>6.1</td>\n",
       "    </tr>\n",
       "    <tr>\n",
       "      <th>Czech Republic</th>\n",
       "      <td>17256.918</td>\n",
       "      <td>6.5</td>\n",
       "    </tr>\n",
       "    <tr>\n",
       "      <th>Estonia</th>\n",
       "      <td>17288.083</td>\n",
       "      <td>5.6</td>\n",
       "    </tr>\n",
       "  </tbody>\n",
       "</table>\n",
       "</div>"
      ],
      "text/plain": [
       "                 GDP per capita  Life satisfaction\n",
       "Country                                           \n",
       "Brazil                 8669.998                7.0\n",
       "Mexico                 9009.280                6.7\n",
       "Russia                 9054.914                6.0\n",
       "Turkey                 9437.372                5.6\n",
       "Hungary               12239.894                4.9\n",
       "Poland                12495.334                5.8\n",
       "Chile                 13340.905                6.7\n",
       "Slovak Republic       15991.736                6.1\n",
       "Czech Republic        17256.918                6.5\n",
       "Estonia               17288.083                5.6"
      ]
     },
     "execution_count": 68,
     "metadata": {},
     "output_type": "execute_result"
    }
   ],
   "source": [
    "full_country_stats = pd.merge(left=oecd_bli, right=gdp_per_capita, left_index=True, right_index=True)\n",
    "full_country_stats.sort_values(by=\"GDP per capita\", inplace=True)\n",
    "full_country_stats[['GDP per capita', 'Life satisfaction']].head(10)"
   ]
  },
  {
   "cell_type": "code",
   "execution_count": 69,
   "metadata": {},
   "outputs": [
    {
     "data": {
      "text/plain": [
       "GDP per capita       29866.581\n",
       "Life satisfaction        6.000\n",
       "Name: Italy, dtype: float64"
      ]
     },
     "execution_count": 69,
     "metadata": {},
     "output_type": "execute_result"
    }
   ],
   "source": [
    "full_country_stats[['GDP per capita', 'Life satisfaction']].loc['Italy']"
   ]
  },
  {
   "cell_type": "code",
   "execution_count": 70,
   "metadata": {},
   "outputs": [
    {
     "data": {
      "text/plain": [
       "GDP per capita       55805.204\n",
       "Life satisfaction        7.200\n",
       "Name: United States, dtype: float64"
      ]
     },
     "execution_count": 70,
     "metadata": {},
     "output_type": "execute_result"
    }
   ],
   "source": [
    "full_country_stats[[\"GDP per capita\", 'Life satisfaction']].loc[\"United States\"]"
   ]
  },
  {
   "cell_type": "markdown",
   "metadata": {},
   "source": [
    "Now we remove some data, just to make an observation later:"
   ]
  },
  {
   "cell_type": "code",
   "execution_count": 71,
   "metadata": {},
   "outputs": [],
   "source": [
    "remove_indices = [0, 1, 6, 8, 33, 34, 35]\n",
    "keep_indices = list(set(range(36)) - set(remove_indices))\n",
    "\n",
    "sample_stats = full_country_stats[[\"GDP per capita\", 'Life satisfaction']].iloc[keep_indices]\n",
    "missing_stats = full_country_stats[[\"GDP per capita\", 'Life satisfaction']].iloc[remove_indices]"
   ]
  },
  {
   "cell_type": "code",
   "execution_count": 72,
   "metadata": {},
   "outputs": [
    {
     "data": {
      "image/png": "[encoded data removed]",
      "text/plain": [
       "<Figure size 432x288 with 1 Axes>"
      ]
     },
     "metadata": {
      "needs_background": "light"
     },
     "output_type": "display_data"
    }
   ],
   "source": [
    "# Prepare the data\n",
    "X_sample = np.c_[sample_stats[\"GDP per capita\"]]\n",
    "y_sample = np.c_[sample_stats[\"Life satisfaction\"]]\n",
    "\n",
    "# Visualize the data\n",
    "sample_stats.plot(kind='scatter', x=\"GDP per capita\", y='Life satisfaction')\n",
    "plt.show()"
   ]
  },
  {
   "cell_type": "markdown",
   "metadata": {},
   "source": [
    "There does seem to be a trend here! Although the data is noisy (i.e., partly random), it looks like life satisfaction goes up more or less linearly as the country’s GDP per capita increases. So you decide to model life satisfaction as a linear function of GDP per capita. This step is called **model selection**: you selected a linear model of life satisfaction with just one attribute, GDP per capita.\n",
    "Before you can use your model, you need to define the parameter of the line. How can you know which values will make your model perform best? To answer this question, you need to specify a **performance measure**. You can either define a utility function (or fitness function) that measures how good your model is, or you can define a cost function that measures how bad it is. For linear regression problems, people typically use a cost function that measures the distance between the linear model’s predictions and the dataset examples; the objective is to minimize this distance. This is where the Linear Regression algorithm comes in: you feed it your examples and it finds the parameters that make the linear model fit best to your data. This is called **training the model**."
   ]
  },
  {
   "cell_type": "code",
   "execution_count": 73,
   "metadata": {},
   "outputs": [
    {
     "data": {
      "image/png": "[encoded data removed]",
      "text/plain": [
       "<Figure size 432x288 with 1 Axes>"
      ]
     },
     "metadata": {
      "needs_background": "light"
     },
     "output_type": "display_data"
    }
   ],
   "source": [
    "# Select a linear model\n",
    "model_linear = sklearn.linear_model.LinearRegression()\n",
    "\n",
    "# Train the model\n",
    "model_linear.fit(X_sample, y_sample)\n",
    "\n",
    "# Visualize model and data\n",
    "sample_stats.plot(kind='scatter', x=\"GDP per capita\", y='Life satisfaction')\n",
    "plt.plot(X_sample, model_linear.intercept_[0] + model_linear.coef_[0][0]*X_sample, \"b\")\n",
    "plt.show()"
   ]
  },
  {
   "cell_type": "markdown",
   "metadata": {},
   "source": [
    "You are finally ready to run the model to make predictions. For example, say you want to know how happy Cypriots are, and the OECD data does not have the answer. Fortunately, you can use your model to make a good prediction: you look up Cyprus’s\n",
    "GDP per capita, find $22,587, and then apply your model and find that life satisfaction."
   ]
  },
  {
   "cell_type": "code",
   "execution_count": 74,
   "metadata": {},
   "outputs": [
    {
     "name": "stdout",
     "output_type": "stream",
     "text": [
      "[[5.96242338]]\n"
     ]
    }
   ],
   "source": [
    "# Make a prediction for Cyprus\n",
    "X_cyprus = [[22587]]\n",
    "y_cyprus = model_linear.predict(X_cyprus)\n",
    "print(y_cyprus) "
   ]
  },
  {
   "cell_type": "markdown",
   "metadata": {},
   "source": [
    "If you had used an instance-based learning algorithm instead, you can search out a bit arounf Cyprus GDP and look at the closest countries (you will find Slovenia, Portugal and Spain). Averaging these three values, you get 5.77, which is pretty close to the model-based prediction.\n",
    "This simple algorithm is called **k-Nearest Neighbors (KNN)** regression (in this example, k = 3)."
   ]
  },
  {
   "cell_type": "code",
   "execution_count": 75,
   "metadata": {},
   "outputs": [
    {
     "data": {
      "image/png": "[encoded data removed]",
      "text/plain": [
       "<Figure size 432x288 with 1 Axes>"
      ]
     },
     "metadata": {
      "needs_background": "light"
     },
     "output_type": "display_data"
    },
    {
     "name": "stdout",
     "output_type": "stream",
     "text": [
      "[[5.76666667]]\n"
     ]
    }
   ],
   "source": [
    "# Select KNN\n",
    "model_knn = sklearn.neighbors.KNeighborsRegressor(n_neighbors=3)\n",
    "\n",
    "# Train the model\n",
    "model_knn.fit(X_sample, y_sample)\n",
    "\n",
    "# Visualize model and data\n",
    "sample_stats.plot(kind='scatter', x=\"GDP per capita\", y='Life satisfaction')\n",
    "values = np.c_[np.arange(5000, 60000, 500)]\n",
    "predictions = model_knn.predict(values)\n",
    "plt.plot(values, predictions, \"b\")\n",
    "plt.show()\n",
    "\n",
    "# Make a prediction for Cyprus\n",
    "X_new = [[22587]]  # Cyprus' GDP per capita\n",
    "print(model_knn.predict(X_new)) # outputs [[ 5.96242338]]"
   ]
  },
  {
   "cell_type": "markdown",
   "metadata": {},
   "source": [
    "If all went well, our model will make good predictions. If not, we may need to use **more attributes** (employment rate, health, air pollution, etc.), get **more or better-quality dataset**, or perhaps **select a more powerful model** (e.g., a Polynomial Regression model)."
   ]
  },
  {
   "cell_type": "markdown",
   "metadata": {},
   "source": [
    "## Main Challenges\n",
    "\n",
    "In short, since our main task is to select a learning algorithm and train it on\n",
    "some data, the two things that can go wrong are **bad algorithm** and **bad data**. "
   ]
  },
  {
   "cell_type": "markdown",
   "metadata": {},
   "source": [
    "### Insufficient Quantity of Data\n",
    "\n",
    "For a child to learn what an apple is, all it takes is to point to an apple and say \"apple\" (possibly repeating this procedure a few times). Now the child is able to recognize apples in all sorts of colors and shapes.\n",
    "\n",
    "Machine Learning is not quite there yet: even for very simple problems, we typically need thousands of examples, and for complex problems (image or speech recognition) we may need millions of examples.\n",
    "\n",
    "A famous paper of 2001, [M. Banko, E. Brill. \"Scaling to Very Very Large Corpora for Natural Language Disambiguation\", 2001](https://dl.acm.org/doi/pdf/10.3115/1073012.1073017) showed that very different \n",
    "algorithms, including simple ones, performed almost identically well on a complex problem of natural language processing once they were given enough data:\n",
    "\n",
    "<img src=\"./images/data_vs_algorithms.png\" width=\"500\"> "
   ]
  },
  {
   "cell_type": "markdown",
   "metadata": {},
   "source": [
    "As the authors put it, \"these results suggest that we may want to reconsider the trade-off between spending time and money on algorithm development versus spending it on corpus development\"."
   ]
  },
  {
   "cell_type": "markdown",
   "metadata": {},
   "source": [
    "### Nonrepresentative Dataset\n",
    "\n",
    "In order to generalize well, it is crucial that our dataset be **representative of the new cases you want to generalize to**.  For example, the set of countries we used earlier was not perfectly representative, becouse a few countries were missing."
   ]
  },
  {
   "cell_type": "code",
   "execution_count": 76,
   "metadata": {},
   "outputs": [
    {
     "data": {
      "image/png": "[encoded data removed]",
      "text/plain": [
       "<Figure size 432x288 with 1 Axes>"
      ]
     },
     "metadata": {
      "needs_background": "light"
     },
     "output_type": "display_data"
    }
   ],
   "source": [
    "X_complete = np.c_[full_country_stats[\"GDP per capita\"]]\n",
    "y_complete = np.c_[full_country_stats[\"Life satisfaction\"]]\n",
    "\n",
    "# Select a linear model\n",
    "model_linear_complete = sklearn.linear_model.LinearRegression()\n",
    "\n",
    "# Train the model\n",
    "model_linear_complete.fit(X_complete, y_complete)\n",
    "\n",
    "# Visualize model and data\n",
    "missing_stats.plot(kind='scatter', x=\"GDP per capita\", y='Life satisfaction')\n",
    "plt.plot(X_sample, y_sample, \"rs\")\n",
    "plt.plot(X_complete, model_linear.intercept_[0] + model_linear.coef_[0][0]*X_complete, \"k\")\n",
    "plt.plot(X_complete, model_linear_complete.intercept_[0] + model_linear_complete.coef_[0][0]*X_complete, \"b\")\n",
    "plt.show()"
   ]
  },
  {
   "cell_type": "markdown",
   "metadata": {},
   "source": [
    "As you can see, not only does adding a few missing countries significantly alter the model, but it makes it clear that such a simple linear model is probably never going to work well. It seems that very rich countries are not happier than moderately rich\n",
    "countries (in fact, they seem unhappier), and conversely some poor countries seem happier than many rich countries. By using a nonrepresentative dataset, we trained a model that is unlikely to make accurate predictions, especially for very poor and very rich countries.\n",
    "\n",
    "It is crucial to use a dataset that is representative of the cases we want to generalize to. This is often harder than it sounds: if the sample is too small, we will have **sampling noise** (i.e., nonrepresentative data as a result of chance), but even very large samples can be nonrepresentative if the sampling method is flawed. This is called **sampling bias**."
   ]
  },
  {
   "cell_type": "markdown",
   "metadata": {},
   "source": [
    "### Poor-Quality Data\n",
    "\n",
    "Obviously, if our dataset is full of errors, outliers, and noise (e.g., due to poor-quality measurements), it will make it harder for the system to detect the underlying patterns, so our system is less likely to perform well. It is often well worth the effort to spend time **cleaning up dataset**.\n",
    "\n",
    "As the saying goes: **garbage in, garbage out**. Our system will only be capable of learning if the dataset contains enough relevant features and not too many irrelevant ones. A critical part of the success of a project is coming up with a good set of features to train on. This process is called **feature engineering**."
   ]
  },
  {
   "cell_type": "markdown",
   "metadata": {},
   "source": [
    "### Generalization: overfitting and underfitting\n",
    "\n",
    "Say you are visiting a foreign country and the taxi driver rips you off. You might be tempted to say that all taxi drivers in that country are thieves. **Overgeneralizing** is something that we humans do all too often, and unfortunately machines can fall into the same trap if we are not careful. This is called **overfitting**: it means that the model performs well on the dataset, but it does not generalize well."
   ]
  },
  {
   "cell_type": "code",
   "execution_count": 77,
   "metadata": {},
   "outputs": [
    {
     "data": {
      "image/png": "[encoded data removed]",
      "text/plain": [
       "<Figure size 576x216 with 1 Axes>"
      ]
     },
     "metadata": {
      "needs_background": "light"
     },
     "output_type": "display_data"
    }
   ],
   "source": [
    "full_country_stats.plot(kind='scatter', x=\"GDP per capita\", y='Life satisfaction', figsize=(8,3))\n",
    "plt.axis([0, 110000, 0, 10])\n",
    "\n",
    "from sklearn import preprocessing\n",
    "from sklearn import pipeline\n",
    "\n",
    "poly = preprocessing.PolynomialFeatures(degree=30, include_bias=False)\n",
    "scaler = preprocessing.StandardScaler()\n",
    "lin_reg2 = sklearn.linear_model.LinearRegression()\n",
    "\n",
    "pipeline_reg = pipeline.Pipeline([('poly', poly), ('scal', scaler), ('lin', lin_reg2)])\n",
    "pipeline_reg.fit(X_complete, y_complete)\n",
    "values = np.c_[np.arange(5000, 150000, 500)]\n",
    "curve = pipeline_reg.predict(values)\n",
    "plt.plot(values, curve)\n",
    "plt.xlabel(\"GDP per capita (USD)\");"
   ]
  },
  {
   "cell_type": "markdown",
   "metadata": {},
   "source": [
    "The previous figure shows an example of a high-degree polynomial life satisfaction model that strongly overfits the dataset. Even though it performs much better on the data than the simple linear model, would you really trust its predictions? Complex models can detect subtle patterns in the data, but if the dataset is noisy, or if it is too small, then the model is likely to detect patterns in the\n",
    "noise itself. Obviously these patterns will not generalize to new instances."
   ]
  },
  {
   "cell_type": "markdown",
   "metadata": {},
   "source": [
    "Some possible solutions are: simplify the model by selecting one with fewer parameters by reducing the number of attributes in the dataset, or by constraining the model (called **regularization**); gather more data; reduce the noise in the dataset (e.g., fix data errors and remove outliers)."
   ]
  },
  {
   "cell_type": "markdown",
   "metadata": {},
   "source": [
    "For example, the linear model we defined earlier has two parameters, height and slope. This gives the learning algorithm two degrees of freedom to adapt the model to the dataset. If we forced the slope = 0, the algorithm would have only one degree of freedom and would have a much harder time fitting the data properly: all it could do is move the line up or down to get as close as possible to the dataset instances, so it would end up around the mean. If we allow the algorithm to modify the slope but we force it to keep it small, then the learning algorithm will effectively have somewhere in between one and two degrees of freedom. It will produce a model that’s simpler than one with two degrees of freedom, but more complex than one with just one. We need to find the right balance between fitting the dataset perfectly and keeping the model simple enough to ensure that it will generalize well."
   ]
  },
  {
   "cell_type": "code",
   "execution_count": 78,
   "metadata": {},
   "outputs": [
    {
     "data": {
      "image/png": "[encoded data removed]",
      "text/plain": [
       "<Figure size 576x216 with 1 Axes>"
      ]
     },
     "metadata": {
      "needs_background": "light"
     },
     "output_type": "display_data"
    }
   ],
   "source": [
    "plt.figure(figsize=(8,3))\n",
    "\n",
    "plt.xlabel(\"GDP per capita\")\n",
    "plt.ylabel('Life satisfaction')\n",
    "\n",
    "plt.plot(list(sample_stats[\"GDP per capita\"]), list(sample_stats[\"Life satisfaction\"]), \"bo\")\n",
    "plt.plot(list(missing_stats[\"GDP per capita\"]), list(missing_stats[\"Life satisfaction\"]), \"rs\")\n",
    "\n",
    "X = np.linspace(0, 110000, 1000)\n",
    "\n",
    "model_linear_complete.intercept_[0] + model_linear_complete.coef_[0][0]\n",
    "\n",
    "plt.plot(X, model_linear_complete.intercept_[0] + model_linear_complete.coef_[0][0] * X, \"r--\", label=\"Linear model on all data\")\n",
    "plt.plot(X, model_linear.intercept_[0] + model_linear.coef_[0][0] * X, \"b:\", label=\"Linear model on partial data\")\n",
    "\n",
    "model_linear_ridge = sklearn.linear_model.Ridge(alpha=10**9.5)\n",
    "Xsample = np.c_[sample_stats[\"GDP per capita\"]]\n",
    "ysample = np.c_[sample_stats[\"Life satisfaction\"]]\n",
    "model_linear_ridge.fit(Xsample, ysample)\n",
    "\n",
    "plt.plot(X, model_linear_ridge.intercept_[0] + model_linear_ridge.coef_[0][0] * X, \"b\", label=\"Regularized linear model on partial data\")\n",
    "\n",
    "plt.legend(loc=\"lower right\")\n",
    "plt.axis([0, 110000, 0, 10])\n",
    "plt.xlabel(\"GDP per capita (USD)\")\n",
    "plt.show()"
   ]
  },
  {
   "cell_type": "markdown",
   "metadata": {},
   "source": [
    "As you can see that regularization forced the model to have a smaller slope: this model does not fit the dataset as well as the first model, but it actually generalizes better to new examples that it did not see during training."
   ]
  },
  {
   "cell_type": "markdown",
   "metadata": {},
   "source": [
    "The amount of regularization to apply during learning can be controlled by a **hyperparameter** (a parameter of a learning algorithm, not of the model). As such, it is not affected by the learning algorithm itself, it must be set prior to training and remains constant during training. If you set the regularization hyperparameter to a very large value, you will get an almost flat model (a slope close to zero); the learning algorithm will almost certainly not overfit the dataset, but it will be less likely to find a good solution. Tuning hyperparameters is an important part of building a learning system."
   ]
  },
  {
   "cell_type": "markdown",
   "metadata": {},
   "source": [
    "As you might guess, **underfitting** is the opposite: it occurs when our model is too simple to learn the underlying structure of the data. For example, a linear model of life satisfaction is prone to underfit; reality is just more complex than the model, so its predictions are bound to be inaccurate, even on the examples.\n",
    "Here are the main options for fixing this problem: select a more powerful model, with more parameters; feed better features to the learning algorithm (feature engineering); reduce the constraints on the model (e.g., reduce the regularization hyperparameter)."
   ]
  },
  {
   "cell_type": "markdown",
   "metadata": {},
   "source": [
    "## Testing and Validating\n",
    "\n",
    "The only way to know how well a model will generalize to new cases is to actually try it out on new cases. One way to do that is to put the model in production and monitor how well it performs. This works well, but if the model is horribly bad, the users will complain: not the best idea.\n",
    "\n",
    "A better option is to split data into two sets: the **training set** and the **test set**. We train the model using the training set, and we test it using the test set. The error rate on new cases is called the **generalization error** (how well the model will perform on instances it has never seen before) and evaluating the model on the test set provides an estimate of this error. It is common to use 80% of the data for training and hold out 20% for testing. However, this depends on the size of the dataset.\n",
    "\n",
    "In general, a large gap between training and test error means that the model is overfitting the data:\n",
    "\n",
    "<img src=\"./images/overfitting.png\" width=\"500\"> "
   ]
  },
  {
   "cell_type": "markdown",
   "metadata": {},
   "source": [
    "Suppose we are hesitating between two types of models (linear or polynomial?), how can we decide between them? One option is to train both and compare how well they generalize using the test set.\n",
    "\n",
    "Now suppose that the linear model generalizes better, but we want to apply some regularization to avoid overfitting. The question is, how do you choose the value of the regularization hyperparameter? One option is to train several different models using different values for the hyperparameter. Then select the value that produces the lowest generalization error.\n",
    "\n",
    "Finally, we launch that model into production, but unfortunately it does not perform as well as expected. What just happened?\n",
    "\n",
    "The problem is that we measured the generalization error multiple times on the test set, and we adapted the model and hyperparameters to produce the best model for that particular set. This means that the model is unlikely to perform as well on new data!\n"
   ]
  },
  {
   "cell_type": "markdown",
   "metadata": {},
   "source": [
    "A common solution is hold out part of the training set to evaluate several candidate models and select the best one. The new set is called the **validation set**. We train multiple models with various hyperparameters on the reduced training set, then you select the model that performs best on the validation set, and we train the best model on the full training set. Lastly, we evaluate this final model on the test set to get an estimate of the generalization error. This solution usually works quite well. "
   ]
  },
  {
   "cell_type": "markdown",
   "metadata": {},
   "source": [
    "However, if the validation set is too small, then model evaluations will be imprecise. One way to solve this problem is to perform repeated **cross-validation**, using many small validation sets. Each model is evaluated once per validation set after it is trained on the rest of the data. By averaging out all the evaluations of a model, you get a much more accurate measure of its performance."
   ]
  },
  {
   "cell_type": "markdown",
   "metadata": {},
   "source": [
    "On of the most important rule to remember is that the validation set and the test set must be as representative as possible of the data we expect to use in production!"
   ]
  },
  {
   "cell_type": "markdown",
   "metadata": {
    "tags": []
   },
   "source": [
    "## No free-lunch theorem\n",
    "\n",
    "A model is a **simplified version** of the observations. The simplifications are meant to discard the superfluous details that are unlikely to generalize to new instances. To decide what data to discard and what data to keep, we must make **assumptions**. For example, a linear model makes the assumption that the data is fundamentally linear and that the distance between the instances and the straight line is just noise, which\n",
    "can safely be ignored.\n",
    "\n",
    "A famous paper [D. H. Wolpert. \"The Lack of A Priori Distinctions Between Learning Algorithms\", Neural Comput 1996](https://direct.mit.edu/neco/article-abstract/8/7/1341/6016/The-Lack-of-A-Priori-Distinctions-Between-Learning) demonstrated that if you make absolutely no assumption about the data, then there is no reason\n",
    "to prefer one model over any other. This is called the No Free Lunch theorem. For some datasets the best model is a linear model, while for other datasets it is a neural network. There is no model that is a priori guaranteed to work better (hence the name of the theorem). The only way to know for sure which model is best is to evaluate them all. Since this is not possible, in practice you make some reasonable assumptions about the data and evaluate only a few reasonable models.\n",
    "\n",
    "For example, for simple tasks you may evaluate linear models with various levels of regularization, and for a complex problem you may evaluate various neural networks."
   ]
  }
 ],
 "metadata": {
  "kernelspec": {
   "display_name": "Python 3 (ipykernel)",
   "language": "python",
   "name": "python3"
  },
  "language_info": {
   "codemirror_mode": {
    "name": "ipython",
    "version": 3
   },
   "file_extension": ".py",
   "mimetype": "text/x-python",
   "name": "python",
   "nbconvert_exporter": "python",
   "pygments_lexer": "ipython3",
   "version": "3.9.7"
  },
  "nav_menu": {},
  "toc": {
   "navigate_menu": true,
   "number_sections": true,
   "sideBar": true,
   "threshold": 6,
   "toc_cell": false,
   "toc_section_display": "block",
   "toc_window_display": true
  },
  "toc_position": {
   "height": "616px",
   "left": "0px",
   "right": "20px",
   "top": "106px",
   "width": "213px"
  }
 },
 "nbformat": 4,
 "nbformat_minor": 4
}
