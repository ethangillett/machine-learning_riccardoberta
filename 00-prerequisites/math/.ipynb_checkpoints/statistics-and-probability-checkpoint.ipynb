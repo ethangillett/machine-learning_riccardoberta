{
 "cells": [
  {
   "cell_type": "markdown",
   "metadata": {},
   "source": [
    "# Statistics and Probability\n",
    "\n",
    "[![Open In Colab](https://colab.research.google.com/assets/colab-badge.svg)](https://colab.research.google.com/github/riccardoberta/machine-learning/blob/master/00-prerequisites/math/statistics-and-probability.ipynb)\n",
    "\n",
    "Statistics is about gaining information from sets of data. Sometimes we want to represent a lot of complicated information from a large data set in a way that is easily understood. Probability Theory is a branch of mathematics concerned with the analysis of random phenomena. Statistics is intimately linked to Probability theory, we can use statistics to work out the probability, the chance, that a certain event will occur. [Here](https://www.youtube.com/watch?v=arJxFjaMsBM&t=1s) a short video with the exaplanation.\n",
    "\n",
    "<img src=\"images/statistics-probability.png\" width=\"500\">\n",
    "\n",
    "Pandas comes with a wide variety of statistical functions, in the following we will give a from scratch implementation.\n",
    "\n",
    "1. [Statistics](#Statistics)\n",
    "2. [Probability Theory](#Probability-Theory)\n",
    "3. [Hypothesis and Inference](#Hypothesis-and-Inference)"
   ]
  },
  {
   "cell_type": "markdown",
   "metadata": {},
   "source": [
    "## Statistics\n",
    "\n",
    "One obvious description of any dataset is simply the data its. For a small enough dataset, this might even be the best description. But for a larger dataset, this is unwieldy and probably opaque. For that reason, we use statistics to distill and communicate relevant features of our data.\n",
    "\n",
    "Suppose we have an array with number of frieds for each user in a social network like application."
   ]
  },
  {
   "cell_type": "code",
   "execution_count": 1,
   "metadata": {},
   "outputs": [],
   "source": [
    "num_friends = [100.0,49,41,40,25,21,21,19,19,18,18,16,15,15,15,15,14,14,13,13,13,13,12,12,11,10,10,10,10,10,10,10,10,10,10,10,10,10,10,10,9,9,9,9,9,9,9,9,9,9,9,9,9,9,9,9,9,9,8,8,8,8,8,8,8,8,8,8,8,8,8,7,7,7,7,7,7,7,7,7,7,7,7,7,7,7,6,6,6,6,6,6,6,6,6,6,6,6,6,6,6,6,6,6,6,6,6,6,5,5,5,5,5,5,5,5,5,5,5,5,5,5,5,5,5,4,4,4,4,4,4,4,4,4,4,4,4,4,4,4,4,4,4,4,4,3,3,3,3,3,3,3,3,3,3,3,3,3,3,3,3,3,3,3,3,2,2,2,2,2,2,2,2,2,2,2,2,2,2,2,2,2,1,1,1,1,1,1,1,1,1,1,1,1,1,1,1,1,1,1,1,1,1,1]"
   ]
  },
  {
   "cell_type": "markdown",
   "metadata": {},
   "source": [
    "As a first approach, we can put our date into a **histogram**"
   ]
  },
  {
   "cell_type": "code",
   "execution_count": 2,
   "metadata": {},
   "outputs": [
    {
     "data": {
      "image/png": "[encoded data removed]",
      "text/plain": [
       "<Figure size 432x288 with 1 Axes>"
      ]
     },
     "metadata": {
      "needs_background": "light"
     },
     "output_type": "display_data"
    }
   ],
   "source": [
    "from collections import Counter\n",
    "import matplotlib.pyplot as plt\n",
    "\n",
    "friend_counts = Counter(num_friends)\n",
    "\n",
    "xs = range(101)\n",
    "ys = [friend_counts[x] for x in xs] \n",
    "\n",
    "plt.bar(xs, ys)\n",
    "plt.axis([0, 101, 0, 25])\n",
    "plt.title(\"Histogram of Friend Counts\")\n",
    "plt.xlabel(\"Number of friends\")\n",
    "plt.ylabel(\"Number of people\")\n",
    "plt.show()"
   ]
  },
  {
   "cell_type": "markdown",
   "metadata": {},
   "source": [
    "Unfortunately, this chart is still too difficult to slip into conversations. So\n",
    "you start generating some **statistics**. Probably the simplest statistic is the\n",
    "number of data points."
   ]
  },
  {
   "cell_type": "code",
   "execution_count": 3,
   "metadata": {},
   "outputs": [
    {
     "name": "stdout",
     "output_type": "stream",
     "text": [
      "204\n"
     ]
    }
   ],
   "source": [
    "num_points = len(num_friends)\n",
    "print(num_points)"
   ]
  },
  {
   "cell_type": "markdown",
   "metadata": {},
   "source": [
    "We can probably also interested in the largest and smallest values"
   ]
  },
  {
   "cell_type": "code",
   "execution_count": 4,
   "metadata": {},
   "outputs": [
    {
     "name": "stdout",
     "output_type": "stream",
     "text": [
      "100.0\n",
      "1\n"
     ]
    }
   ],
   "source": [
    "largest_value = max(num_friends)\n",
    "smallest_value = min(num_friends)\n",
    "\n",
    "print(largest_value)\n",
    "print(smallest_value)"
   ]
  },
  {
   "cell_type": "markdown",
   "metadata": {},
   "source": [
    "### Central Tendencies\n",
    "\n",
    "Usually, we’ll want some notion of where our data is centered. Most commonly we’ll use the **mean (or average)**, which is just the sum of the data divided by its count."
   ]
  },
  {
   "cell_type": "code",
   "execution_count": 5,
   "metadata": {},
   "outputs": [
    {
     "name": "stdout",
     "output_type": "stream",
     "text": [
      "7.333333333333333\n"
     ]
    }
   ],
   "source": [
    "from typing import List\n",
    "\n",
    "def mean(xs: List[float]) -> float:\n",
    "    return sum(xs) / len(xs)\n",
    "\n",
    "print(mean(num_friends))"
   ]
  },
  {
   "cell_type": "markdown",
   "metadata": {},
   "source": [
    "If you have two data points, the mean is simply the point halfway between them. As you add more points, the mean shifts around, but it always depends on the value of every point. \n",
    "\n",
    "We’ll also sometimes be interested in the **median**, which is the middle-most value (if the number of data points is odd) or the average of the two middle-most values (if the number of data points is even). Notice that (unlike the mean) the median doesn’t fully depend on every value in your data. For example, if you make the largest point larger (or the smallest point smaller), the middle points remain unchanged, which means so does the median."
   ]
  },
  {
   "cell_type": "code",
   "execution_count": 6,
   "metadata": {},
   "outputs": [
    {
     "name": "stdout",
     "output_type": "stream",
     "text": [
      "6.0\n"
     ]
    }
   ],
   "source": [
    "def _median_odd(xs: List[float]) -> float:\n",
    "    \"\"\"If len(xs) is odd, the median is the middle element\"\"\"\n",
    "    return sorted(xs)[len(xs) // 2]\n",
    "\n",
    "def _median_even(xs: List[float]) -> float:\n",
    "    \"\"\"If len(xs) is even, it's the average of the middle two elements\"\"\"\n",
    "    sorted_xs = sorted(xs)\n",
    "    hi_midpoint = len(xs) // 2 # e.g. length 4 => hi_midpoint 2\n",
    "    return (sorted_xs[hi_midpoint - 1] + sorted_xs[hi_midpoint]) / 2\n",
    "\n",
    "def median(v: List[float]) -> float:\n",
    "    \"\"\"Finds the 'middle-most' value of v\"\"\"\n",
    "    return _median_even(v) if len(v) % 2 == 0 else _median_odd(v)\n",
    "\n",
    "assert median([1, 10, 2, 9, 5]) == 5\n",
    "assert median([1, 9, 2, 10]) == (2 + 9) / 2\n",
    "\n",
    "print(median(num_friends))"
   ]
  },
  {
   "cell_type": "markdown",
   "metadata": {},
   "source": [
    "Clearly, the mean is simpler to compute, and it varies smoothly as our data changes. If we have $n$ data points and one of them increases by some small amount $e$, then necessarily the mean will increase by $e/n$. This makes the mean amenable to all sorts of calculus tricks.) In order to find the median, however, we have to sort our data. And changing one of our data points by a small amount $e$ might increase the median by $e$, by some number less than $e$, or not at all (depending on the rest of the data).\n",
    "\n",
    "At the same time, the mean is very sensitive to outliers in our data. If our friendliest user had 200 friends (instead of 100), then the mean would rise to 7.82, while the median would stay the same. If outliers are likely to be bad data (or otherwise unrepresentative of whatever phenomenon we’re trying to understand), then the mean can sometimes give us a misleading picture. "
   ]
  },
  {
   "cell_type": "markdown",
   "metadata": {},
   "source": [
    "A generalization of the median is the **quantile**, which represents the value under which a certain percentile of the data lies (the median represents the value under which 50% of the data lies)."
   ]
  },
  {
   "cell_type": "code",
   "execution_count": 7,
   "metadata": {},
   "outputs": [
    {
     "name": "stdout",
     "output_type": "stream",
     "text": [
      "9\n"
     ]
    }
   ],
   "source": [
    "def quantile(xs: List[float], p: float) -> float:\n",
    "    \"\"\"Returns the pth-percentile value in x\"\"\"\n",
    "    p_index = int(p * len(xs))\n",
    "    return sorted(xs)[p_index]\n",
    "\n",
    "assert quantile(num_friends, 0.10) == 1\n",
    "assert quantile(num_friends, 0.25) == 3\n",
    "assert quantile(num_friends, 0.75) == 9\n",
    "assert quantile(num_friends, 0.90) == 13\n",
    "\n",
    "print(quantile(num_friends, 0.75))"
   ]
  },
  {
   "cell_type": "markdown",
   "metadata": {},
   "source": [
    "Less commonly you might want to look at the **mode**, or most common value"
   ]
  },
  {
   "cell_type": "code",
   "execution_count": 8,
   "metadata": {},
   "outputs": [
    {
     "name": "stdout",
     "output_type": "stream",
     "text": [
      "[6, 1]\n"
     ]
    }
   ],
   "source": [
    "def mode(x: List[float]) -> List[float]:\n",
    "    \"\"\"Returns a list, since there might be more than one mode\"\"\"\n",
    "    counts = Counter(x)\n",
    "    max_count = max(counts.values())\n",
    "    return [x_i for x_i, count in counts.items() if count == max_count]\n",
    "\n",
    "assert set(mode(num_friends)) == {1, 6}\n",
    "\n",
    "print(mode(num_friends))"
   ]
  },
  {
   "cell_type": "markdown",
   "metadata": {},
   "source": [
    "### Dispersion\n",
    "\n",
    "Dispersion refers to measures of how spread out our data is. Typically they’re statistics for which values near zero signify not spread out at all and for which large values (whatever that means) signify very spread out.\n",
    "\n",
    "For instance, a very simple measure is the **range**, which is just the difference between the largest and smallest elements."
   ]
  },
  {
   "cell_type": "code",
   "execution_count": 9,
   "metadata": {},
   "outputs": [
    {
     "name": "stdout",
     "output_type": "stream",
     "text": [
      "99.0\n"
     ]
    }
   ],
   "source": [
    "def data_range(xs: List[float]) -> float:\n",
    "    return max(xs) - min(xs)\n",
    "\n",
    "assert data_range(num_friends) == 99\n",
    "\n",
    "print(data_range(num_friends))"
   ]
  },
  {
   "cell_type": "markdown",
   "metadata": {},
   "source": [
    "The range is zero precisely when the max and min are equal, which can only happen if the elements are all the same, which means the data is as undispersed as possible. Conversely, if the range is large, then the max is much larger than the min and the data is more spread out. Like the median, the range doesn’t really depend on the whole dataset. A dataset whose points are all either 0 or 100 has the same range as a dataset whose values are 0, 100, and lots of 50s. But it seems like the first dataset\n",
    "“should” be more spread out.\n",
    "\n",
    "A more complex measure of dispersion is the **variance**. Variance calculates an average distance from the average for all points. "
   ]
  },
  {
   "cell_type": "code",
   "execution_count": 12,
   "metadata": {},
   "outputs": [
    {
     "name": "stdout",
     "output_type": "stream",
     "text": [
      "81.54351395730716\n"
     ]
    }
   ],
   "source": [
    "import sys; sys.path.insert(0, '../..')\n",
    "from scratch.linear_algebra import sum_of_squares\n",
    "\n",
    "def de_mean(xs: List[float]) -> List[float]:\n",
    "    \"\"\"Translate xs by subtracting its mean (so the result has mean 0)\"\"\"\n",
    "    x_bar = mean(xs)\n",
    "    return [x - x_bar for x in xs]\n",
    "\n",
    "def variance(xs: List[float]) -> float:\n",
    "    \"\"\"Almost the average squared deviation from the mean\"\"\"\n",
    "    assert len(xs) >= 2, \"variance requires at least two elements\"\n",
    "    n = len(xs)\n",
    "    deviations = de_mean(xs)\n",
    "    return sum_of_squares(deviations) / (n - 1)\n",
    "\n",
    "assert 81.54 < variance(num_friends) < 81.55\n",
    "\n",
    "print(variance(num_friends))"
   ]
  },
  {
   "cell_type": "markdown",
   "metadata": {},
   "source": [
    "Now, whatever units our data is, all of our measures of central tendency are in that same unit. The range will similarly be in that same unit. The variance, on the other hand, has units that are the square of the original units. As it can be hard to make sense of these, we often look instead at the **standard deviation**:"
   ]
  },
  {
   "cell_type": "code",
   "execution_count": 13,
   "metadata": {},
   "outputs": [
    {
     "name": "stdout",
     "output_type": "stream",
     "text": [
      "9.03014473623248\n"
     ]
    }
   ],
   "source": [
    "import math\n",
    "\n",
    "def standard_deviation(xs: List[float]) -> float:\n",
    "    \"\"\"The standard deviation is the square root of the variance\"\"\"\n",
    "    return math.sqrt(variance(xs))\n",
    "\n",
    "assert 9.02 < standard_deviation(num_friends) < 9.04\n",
    "\n",
    "print(standard_deviation(num_friends))"
   ]
  },
  {
   "cell_type": "markdown",
   "metadata": {},
   "source": [
    "Both the range and the standard deviation have the same outlier problem that we saw earlier for the mean. Using the same example, if our friendliest user had instead 200 friends, the standard deviation would be 14.89, more than 60% higher!\n",
    "\n",
    "A more robust alternative computes the difference between the 75th percentile value and the 25th percentile value, which is quite plainly unaffected by a small number of outliers."
   ]
  },
  {
   "cell_type": "code",
   "execution_count": 14,
   "metadata": {},
   "outputs": [
    {
     "name": "stdout",
     "output_type": "stream",
     "text": [
      "6\n"
     ]
    }
   ],
   "source": [
    "def interquartile_range(xs: List[float]) -> float:\n",
    "    \"\"\"Returns the difference between the 75%-ile and the 25%-ile\"\"\"\n",
    "    return quantile(xs, 0.75) - quantile(xs, 0.25)\n",
    "\n",
    "assert interquartile_range(num_friends) == 6\n",
    "\n",
    "print(interquartile_range(num_friends))"
   ]
  },
  {
   "cell_type": "markdown",
   "metadata": {},
   "source": [
    "### Correlation\n",
    "\n",
    "Often, we are interested to investigate the relationship between these two datasets. \n",
    "\n",
    "Suppose we have a new list that shows how many minutes per day each user spends on\n",
    "a site, and you’ve ordered it so that its elements correspond to the elements of our previous list. We can be interested in investigating if the amount of time people spend on the site is related to the number of friends they have on the site."
   ]
  },
  {
   "cell_type": "code",
   "execution_count": 15,
   "metadata": {},
   "outputs": [],
   "source": [
    "daily_minutes = [1,68.77,51.25,52.08,38.36,44.54,57.13,51.4,41.42,31.22,34.76,54.01,38.79,47.59,49.1,27.66,41.03,36.73,48.65,28.12,46.62,35.57,32.98,35,26.07,23.77,39.73,40.57,31.65,31.21,36.32,20.45,21.93,26.02,27.34,23.49,46.94,30.5,33.8,24.23,21.4,27.94,32.24,40.57,25.07,19.42,22.39,18.42,46.96,23.72,26.41,26.97,36.76,40.32,35.02,29.47,30.2,31,38.11,38.18,36.31,21.03,30.86,36.07,28.66,29.08,37.28,15.28,24.17,22.31,30.17,25.53,19.85,35.37,44.6,17.23,13.47,26.33,35.02,32.09,24.81,19.33,28.77,24.26,31.98,25.73,24.86,16.28,34.51,15.23,39.72,40.8,26.06,35.76,34.76,16.13,44.04,18.03,19.65,32.62,35.59,39.43,14.18,35.24,40.13,41.82,35.45,36.07,43.67,24.61,20.9,21.9,18.79,27.61,27.21,26.61,29.77,20.59,27.53,13.82,33.2,25,33.1,36.65,18.63,14.87,22.2,36.81,25.53,24.62,26.25,18.21,28.08,19.42,29.79,32.8,35.99,28.32,27.79,35.88,29.06,36.28,14.1,36.63,37.49,26.9,18.58,38.48,24.48,18.95,33.55,14.24,29.04,32.51,25.63,22.22,19,32.73,15.16,13.9,27.2,32.01,29.27,33,13.74,20.42,27.32,18.23,35.35,28.48,9.08,24.62,20.12,35.26,19.92,31.02,16.49,12.16,30.7,31.22,34.65,13.13,27.51,33.2,31.57,14.1,33.42,17.44,10.12,24.42,9.82,23.39,30.93,15.03,21.67,31.09,33.29,22.61,26.89,23.48,8.38,27.81,32.35,23.84]\n",
    "daily_hours = [dm / 60 for dm in daily_minutes]"
   ]
  },
  {
   "cell_type": "markdown",
   "metadata": {},
   "source": [
    "We’ll first look at **covariance**, the paired analogue of variance. Whereas variance measures how a single variable deviates from its mean, covariance measures how two variables vary in tandem from their means. "
   ]
  },
  {
   "cell_type": "code",
   "execution_count": 16,
   "metadata": {},
   "outputs": [
    {
     "name": "stdout",
     "output_type": "stream",
     "text": [
      "22.425435139573064\n",
      "0.37375725232621776\n"
     ]
    }
   ],
   "source": [
    "from scratch.linear_algebra import dot\n",
    "\n",
    "def covariance(xs: List[float], ys: List[float]) -> float:\n",
    "    assert len(xs) == len(ys), \"xs and ys must have same number of elements\"\n",
    "    return dot(de_mean(xs), de_mean(ys)) / (len(xs) - 1)\n",
    "\n",
    "assert 22.42 < covariance(num_friends, daily_minutes) < 22.43\n",
    "\n",
    "print(covariance(num_friends, daily_minutes))\n",
    "print(covariance(num_friends, daily_hours))"
   ]
  },
  {
   "cell_type": "markdown",
   "metadata": {},
   "source": [
    "Recall that dot sums up the products of corresponding pairs of elements. When corresponding elements of $x$ and $y$ are either both above their means or both below their means, a positive number enters the sum. When one is above its mean and the other below, a negative number enters the sum. Accordingly, a “large” positive covariance means that $x$ tends to be large when $y$ is large and small when $y$ is small. A “large” negative covariance means the opposite, $x$ tends to be small when $y$ is large and vice versa. A covariance close to zero means that no such relationship exists.\n",
    "\n",
    "However, this number can be hard to interpret, for a couple of reasons: its units are the product of the inputs’ units, which can be hard to make sense of; if each user had twice as many friends (but the same number of minutes), the covariance would be twice as large. But in a sense, the variables would be just as interrelated. Said differently, it’s hard to say what counts as a “large” covariance.\n",
    "\n",
    "For this reason, it’s more common to look at the **correlation**, which divides out the standard deviations of both variables. It is unitless and always lies between –1 (perfect anticorrelation) and 1 (perfect correlation)."
   ]
  },
  {
   "cell_type": "code",
   "execution_count": 17,
   "metadata": {},
   "outputs": [
    {
     "name": "stdout",
     "output_type": "stream",
     "text": [
      "0.24736957366478218\n",
      "0.24736957366478196\n"
     ]
    }
   ],
   "source": [
    "def correlation(xs: List[float], ys: List[float]) -> float:\n",
    "    \"\"\"Measures how much xs and ys vary in tandem about their means\"\"\"\n",
    "    stdev_x = standard_deviation(xs)\n",
    "    stdev_y = standard_deviation(ys)\n",
    "    if stdev_x > 0 and stdev_y > 0:\n",
    "        return covariance(xs, ys) / stdev_x / stdev_y\n",
    "    else:\n",
    "        return 0 # if no variation, correlation is zero\n",
    "\n",
    "assert 0.24 < correlation(num_friends, daily_minutes) < 0.25\n",
    "\n",
    "print(correlation(num_friends, daily_minutes))\n",
    "print(correlation(num_friends, daily_hours))"
   ]
  },
  {
   "cell_type": "markdown",
   "metadata": {},
   "source": [
    "A number like 0.25 represents a relatively weak positive correlation."
   ]
  },
  {
   "cell_type": "markdown",
   "metadata": {},
   "source": [
    "However, one thing we neglected to do was examine our data."
   ]
  },
  {
   "cell_type": "code",
   "execution_count": 18,
   "metadata": {},
   "outputs": [
    {
     "data": {
      "image/png": "[encoded data removed]",
      "text/plain": [
       "<Figure size 432x288 with 1 Axes>"
      ]
     },
     "metadata": {
      "needs_background": "light"
     },
     "output_type": "display_data"
    }
   ],
   "source": [
    "plt.scatter(num_friends, daily_minutes)\n",
    "plt.title(\"Correlation\")\n",
    "plt.xlabel(\"Number of friends\")\n",
    "plt.ylabel(\"Minutes per day\")\n",
    "plt.show()"
   ]
  },
  {
   "cell_type": "markdown",
   "metadata": {},
   "source": [
    "The person with 100 friends (who spends only 1 minute per day on the site) is a huge **outlier**, and correlation can be very sensitive to outliers. What happens if we ignore him?"
   ]
  },
  {
   "cell_type": "code",
   "execution_count": 19,
   "metadata": {},
   "outputs": [
    {
     "name": "stdout",
     "output_type": "stream",
     "text": [
      "0.5736792115665573\n"
     ]
    }
   ],
   "source": [
    "outlier = num_friends.index(100)\n",
    "\n",
    "num_friends_good = [x for i, x in enumerate(num_friends) if i != outlier]\n",
    "daily_minutes_good = [x for i, x in enumerate(daily_minutes) if i != outlier]\n",
    "\n",
    "print(correlation(num_friends_good, daily_minutes_good))"
   ]
  },
  {
   "cell_type": "markdown",
   "metadata": {},
   "source": [
    "Without the outlier, there is a much stronger correlation!"
   ]
  },
  {
   "cell_type": "code",
   "execution_count": 20,
   "metadata": {},
   "outputs": [
    {
     "data": {
      "image/png": "[encoded data removed]",
      "text/plain": [
       "<Figure size 432x288 with 1 Axes>"
      ]
     },
     "metadata": {
      "needs_background": "light"
     },
     "output_type": "display_data"
    }
   ],
   "source": [
    "plt.scatter(num_friends_good, daily_minutes_good)\n",
    "plt.title(\"Correlation\")\n",
    "plt.xlabel(\"Number of friends good\")\n",
    "plt.ylabel(\"Minutes per day good\")\n",
    "plt.show()"
   ]
  },
  {
   "cell_type": "markdown",
   "metadata": {},
   "source": [
    "One not uncommon surprise when analyzing data is **Simpson’s paradox**, which occurs when trends that appear when a dataset is separated into groups reverse when the data are aggregated, [here an exmaple](https://towardsdatascience.com/simpsons-paradox-how-to-prove-two-opposite-arguments-using-one-dataset-1c9c917f5ff9). \n",
    "The key issue is that correlation is measuring the relationship between your two variables all else being equal. If your dataclasses are assigned at random, as they might be in a well-designed experiment, “all else being equal” might not be a terrible assumption. But when there is a deeper pattern to class assignments, “all else being equal” can be an awful assumption. The only real way to avoid this is by knowing your data and by doing what you can to make sure you’ve checked for possible confounding factors. Obviously, this is not always possible. \n",
    "\n",
    "Simpson’s Paradox is important because it reminds us that the data we get are not all the data there is. We can’t be satisfied only with the numbers or a figure, we have to consider the **data generation process** responsible for the data. Once we understand the mechanism producing the data, we can look for other factors influencing a result that are not on the plot. **Thinking causally** is critical to prevent us from drawing faulty conclusions from numbers. We can use experience and domain knowledge in addition to data to make better decisions."
   ]
  },
  {
   "cell_type": "markdown",
   "metadata": {},
   "source": [
    "A correlation of zero indicates that there is no **linear** relationship between the two variables. However, there may be **other sorts of relationships**. For example, the following data have zero correlation."
   ]
  },
  {
   "cell_type": "code",
   "execution_count": 21,
   "metadata": {},
   "outputs": [
    {
     "name": "stdout",
     "output_type": "stream",
     "text": [
      "0.0\n"
     ]
    }
   ],
   "source": [
    "x = [-2, -1, 0, 1, 2]\n",
    "y = [ 2, 1, 0, 1, 2]\n",
    "\n",
    "print(correlation(x,y))"
   ]
  },
  {
   "cell_type": "markdown",
   "metadata": {},
   "source": [
    "But they certainly have a relationship (each element of $y$ equals the absolute value of the corresponding element of $x$. What they don’t have is a relationship in which knowing how $x_i$ compares to mean(x) gives us information about how $y_i$ compares to mean(y)."
   ]
  },
  {
   "cell_type": "code",
   "execution_count": 22,
   "metadata": {},
   "outputs": [
    {
     "data": {
      "image/png": "[encoded data removed]",
      "text/plain": [
       "<Figure size 432x288 with 1 Axes>"
      ]
     },
     "metadata": {
      "needs_background": "light"
     },
     "output_type": "display_data"
    }
   ],
   "source": [
    "plt.scatter(x, y)\n",
    "plt.title(\"Correlation\")\n",
    "plt.xlabel(\"x\")\n",
    "plt.ylabel(\"y\")\n",
    "plt.show()"
   ]
  },
  {
   "cell_type": "markdown",
   "metadata": {},
   "source": [
    "Finally, you have probably heard that **correlation is not causation**: if $x$ and $y$ are strongly correlated, that might mean that $x$ causes $y$, that $y$ causes $x$, that each causes the other, that some third factor  causes both, or nothing at all."
   ]
  },
  {
   "cell_type": "markdown",
   "metadata": {},
   "source": [
    "## Probability Theory"
   ]
  },
  {
   "cell_type": "markdown",
   "metadata": {},
   "source": [
    "For our purposes, we can think of probability as a way of\n",
    "quantifying the **uncertainty** associated with events chosen from some universe of events.  Think of rolling a die: the universe consists of all possible outcomes and any subset of these outcomes is an event (the die rolls a 4). Notationally, we write $P(E)$ to mean the probability of the\n",
    "event $E$.\n",
    "\n",
    "We use probability theory to build and evaluate models. "
   ]
  },
  {
   "cell_type": "markdown",
   "metadata": {},
   "source": [
    "### Dependence and independence\n",
    "\n",
    "We say that two events $E$ and $F$ are **dependent** if knowing something about whether $E$ happens gives us information about whether $F$ happens (and vice versa). Otherwise, they are **independent**.\n",
    "\n",
    "For instance, if we flip a fair coin twice, knowing whether the first flip is heads gives us no information about whether the second flip is heads. These events are independent. On the other hand, knowing whether the first flip is heads certainly\n",
    "gives us information about whether both flips are tails. (If the first flip is heads, then definitely it’s not the case that both flips are tails.) These two events are dependent.\n",
    "\n",
    "Mathematically, two events $E$ and $F$ are independent if the probability that they both happen is the product of the probabilities that each one happens:\n",
    "\n",
    "$P(E,F)=P(E)P(F)$"
   ]
  },
  {
   "cell_type": "markdown",
   "metadata": {},
   "source": [
    "### Conditional Probability\n",
    "\n",
    "If two events $E$ and $F$ are not independent (and if the probability of $F$ is not zero), we define the probability of $E$ **conditional on** $F$ as:\n",
    "\n",
    "$P(E|F)=P(E,F)/P(F)$\n",
    "\n",
    "We can think of this as the probability that $E$ happens, given that we know that $F$ happens. When $E$ and $F$ are independent, we can check that this gives $P(E|F)=P(E)$ which is the mathematical way of expressing that knowing $F$ occurred gives us no additional information about whether $E$ occurred.\n",
    "\n",
    "We often rewrite this as:\n",
    "\n",
    "$P(E,F)=P(E|F)P(F)$\n",
    "\n",
    "[Here](https://www.nagwa.com/en/videos/183106462819/) a short video on this topic."
   ]
  },
  {
   "cell_type": "markdown",
   "metadata": {},
   "source": [
    "### Bayes's Theorem\n",
    "\n",
    "the Bayes's Theorem is a way of \"reversing\" conditional probabilities. Let’s\n",
    "say we need to know the probability of some event $E$ conditional on some other event $F$ occurring. But we only have information about the probability of $F$ conditional on $E$ occurring.\n",
    "\n",
    "$P(E|F)=P(F|E)P(E)/P(F)$\n",
    "\n",
    "The theorem may be derived from the definition of conditional probability:\n",
    "\n",
    "$P(E|F)=P(E,F)/P(F)$\n",
    "\n",
    "$P(F|E)=P(F,E)/P(E)$\n",
    "\n",
    "but $P(E,F)=P(F,E)$ and dividing\n",
    "\n",
    "$P(E|F)/P(F|E)=P(F)/P(E)$ => $P(E|F)=P(F|E)P(E)/P(F)$"
   ]
  },
  {
   "cell_type": "markdown",
   "metadata": {},
   "source": [
    "### Random Variables\n",
    "\n",
    "A random variable is a variable whose possible values have an associated **probability distribution**, which gives the probabilities that the variable realizes each of its possible values.\n",
    "\n",
    "A very simple random variable equals 1 if a coin flip turns up heads and 0 if the flip turns up tails. A more complicated one might measure the number of heads you observe when flipping a coin 10 times. The coin flip variable equals 0 with probability 0.5 and 1 with probability 0.5. The number of heads over 10 flips variable has a distribution that assigns probability 0.1 to each of the numbers from 0 to 10.\n",
    "\n",
    "We will sometimes talk about the **expected value** of a random variable, which is the average of its values weighted by their probabilities. The coin flip variable has an expected value of $1/2 = 0*1/2+1*1/2$."
   ]
  },
  {
   "cell_type": "markdown",
   "metadata": {},
   "source": [
    "### Discrete and Continuous Distributions\n",
    "\n",
    "A coin flip corresponds to a **discrete distribution**, one that associates positive probability with discrete outcomes. Often we’ll want to model distributions across a continuum of outcomes.  For example, the **uniform distribution** puts equal weight on all the numbers between 0 and 1. Because there are infinitely numbers between 0 and 1, this means that the weight it assigns to individual points must\n",
    "necessarily be zero. For this reason, we represent a **continuous distribution** with a **probability density function (PDF)** such that the probability of seeing a value in a certain interval equals the integral of the density function over the interval."
   ]
  },
  {
   "cell_type": "code",
   "execution_count": 23,
   "metadata": {},
   "outputs": [],
   "source": [
    "def uniform_pdf(x: float) -> float:\n",
    "    return 1 if 0 <= x < 1 else 0"
   ]
  },
  {
   "cell_type": "code",
   "execution_count": 24,
   "metadata": {},
   "outputs": [
    {
     "data": {
      "image/png": "[encoded data removed]",
      "text/plain": [
       "<Figure size 432x288 with 1 Axes>"
      ]
     },
     "metadata": {
      "needs_background": "light"
     },
     "output_type": "display_data"
    }
   ],
   "source": [
    "x = [x/100.0 for x in range(-100, 100)]\n",
    "plt.plot(x,[uniform_pdf(value) for value in x],'-')\n",
    "plt.title(\"The uniform PDF\")\n",
    "\n",
    "plt.show()"
   ]
  },
  {
   "cell_type": "markdown",
   "metadata": {},
   "source": [
    "We will often be more interested in the **cumulative distribution function (CDF)**, which gives the probability that a random variable is less than or equal to a certain value."
   ]
  },
  {
   "cell_type": "code",
   "execution_count": 25,
   "metadata": {},
   "outputs": [],
   "source": [
    "def uniform_cdf(x: float) -> float:\n",
    "    \"\"\"Returns the probability that a uniform random variable is <= x\"\"\"\n",
    "    if x < 0: return 0 # uniform random is never less than 0\n",
    "    elif x < 1: return x # e.g. P(X <= 0.4) = 0.4\n",
    "    else: return 1 # uniform random is always less than 1"
   ]
  },
  {
   "cell_type": "code",
   "execution_count": 26,
   "metadata": {},
   "outputs": [
    {
     "data": {
      "image/png": "[encoded data removed]",
      "text/plain": [
       "<Figure size 432x288 with 1 Axes>"
      ]
     },
     "metadata": {
      "needs_background": "light"
     },
     "output_type": "display_data"
    }
   ],
   "source": [
    "x = [x/100.0 for x in range(-100, 200)]\n",
    "plt.plot(x, [uniform_cdf(value) for value in x],'-')\n",
    "plt.title(\"The uniform CDF\")\n",
    "\n",
    "plt.show()"
   ]
  },
  {
   "cell_type": "markdown",
   "metadata": {},
   "source": [
    "The **normal distribution** is the classic bell curve–shaped distribution and is completely determined by two parameters: its **mean** $\\mu$ and its **standard deviation** $\\sigma$. The mean indicates where the bell is centered, and the standard deviation how wide it is.\n",
    "\n",
    "$\\begin{align}\n",
    "f(x|\\mu,\\sigma)=\\frac1{\\sqrt{2\\pi}\\sigma}exp(-\\frac{(x-\\mu)^2}{2\\sigma^2})\n",
    "\\end{align}$"
   ]
  },
  {
   "cell_type": "code",
   "execution_count": 27,
   "metadata": {},
   "outputs": [],
   "source": [
    "import math\n",
    "\n",
    "def normal_pdf(x: float, mu: float = 0, sigma: float = 1) -> float:\n",
    "    return (math.exp(-(x-mu) ** 2 / 2 / sigma ** 2) / (math.sqrt(2 * math.pi) * sigma))"
   ]
  },
  {
   "cell_type": "code",
   "execution_count": 28,
   "metadata": {},
   "outputs": [
    {
     "data": {
      "image/png": "[encoded data removed]",
      "text/plain": [
       "<Figure size 432x288 with 1 Axes>"
      ]
     },
     "metadata": {
      "needs_background": "light"
     },
     "output_type": "display_data"
    }
   ],
   "source": [
    "x = [x/100.0 for x in range(-600, 600)]\n",
    "\n",
    "plt.plot(x,[normal_pdf(value, sigma=1) for value in x],'-',label='mu=0,sigma=1')\n",
    "plt.plot(x,[normal_pdf(value, sigma=2) for value in x],'--',label='mu=0,sigma=2')\n",
    "plt.plot(x,[normal_pdf(value, sigma=0.5) for value in x],':',label='mu=0,sigma=0.5')\n",
    "plt.plot(x,[normal_pdf(value, mu=-1)   for value in x],'-.',label='mu=-1,sigma=1')\n",
    "\n",
    "plt.legend()\n",
    "plt.title(\"Various Normal PDFs\")\n",
    "plt.show()"
   ]
  },
  {
   "cell_type": "code",
   "execution_count": 29,
   "metadata": {},
   "outputs": [],
   "source": [
    "def normal_cdf(x: float, mu: float = 0, sigma: float = 1) -> float:\n",
    "    return (1 + math.erf((x - mu) / math.sqrt(2) / sigma)) / 2"
   ]
  },
  {
   "cell_type": "code",
   "execution_count": 30,
   "metadata": {},
   "outputs": [
    {
     "data": {
      "image/png": "[encoded data removed]",
      "text/plain": [
       "<Figure size 432x288 with 1 Axes>"
      ]
     },
     "metadata": {
      "needs_background": "light"
     },
     "output_type": "display_data"
    }
   ],
   "source": [
    "x = [x/100.0 for x in range(-600, 600)]\n",
    "\n",
    "plt.plot(x,[normal_cdf(value, sigma=1) for value in x],'-',label='mu=0,sigma=1')\n",
    "plt.plot(x,[normal_cdf(value, sigma=2) for value in x],'--',label='mu=0,sigma=2')\n",
    "plt.plot(x,[normal_cdf(value, sigma=0.5) for value in x],':',label='mu=0,sigma=0.5')\n",
    "plt.plot(x,[normal_cdf(value, mu=-1) for value in x],'-.',label='mu=-1,sigma=1')\n",
    "\n",
    "plt.legend(loc=4) # bottom right\n",
    "plt.title(\"Various Normal CDFs\")\n",
    "plt.show()"
   ]
  },
  {
   "cell_type": "markdown",
   "metadata": {},
   "source": [
    "When $\\mu=0$ and $\\sigma=1$, it’s called the **standard normal distribution**. If $Z$ is a standard normal random variable, then it turns out that:\n",
    "\n",
    "$\\begin{align}\n",
    "X = \\sigma Z + \\mu\n",
    "\\end{align}$\n",
    "\n",
    "is also normal but with mean $\\mu$ and standard deviation $\\sigma$.\n",
    "\n",
    "Conversely, if $X$ is a normal random variable with mean $\\mu$ and\n",
    "standard deviation $\\sigma$,\n",
    "\n",
    "$\\begin{align}\n",
    "Z = \\frac{X −  \\mu}{\\sigma}\n",
    "\\end{align}$\n",
    "\n",
    "is a standard normal variable."
   ]
  },
  {
   "cell_type": "markdown",
   "metadata": {},
   "source": [
    "Sometimes we need to invert normal_cdf to find the value corresponding to a specified probability. There’s no simple way to compute its inverse, but normal_cdf is continuous and strictly increasing, so we can use a binary search (repeatedly bisects intervals until it narrows in on a Z that’s close enough to the desired probability)."
   ]
  },
  {
   "cell_type": "code",
   "execution_count": 31,
   "metadata": {},
   "outputs": [],
   "source": [
    "def inverse_normal_cdf(p: float, mu: float = 0, sigma: float = 1, tolerance: float = 0.00001) -> float:\n",
    "    \"\"\"Find approximate inverse using binary search\"\"\"\n",
    "\n",
    "    # if not standard, compute standard and rescale\n",
    "    if mu != 0 or sigma != 1:\n",
    "        return mu + sigma * inverse_normal_cdf(p, tolerance=tolerance)\n",
    "\n",
    "    low_z = -10.0                      # normal_cdf(-10) is (very close to) 0\n",
    "    hi_z  =  10.0                      # normal_cdf(10)  is (very close to) 1\n",
    "    while hi_z - low_z > tolerance:\n",
    "        mid_z = (low_z + hi_z) / 2     # Consider the midpoint\n",
    "        mid_p = normal_cdf(mid_z)      # and the cdf's value there\n",
    "        if mid_p < p:\n",
    "            low_z = mid_z              # Midpoint too low, search above it\n",
    "        else:\n",
    "            hi_z = mid_z               # Midpoint too high, search below it\n",
    "    return mid_z"
   ]
  },
  {
   "cell_type": "markdown",
   "metadata": {},
   "source": [
    "The **Binomial distribution** is the probability distribution of a sequence of $n$ experiments where each experiment produces a binary outcome and where each of the outcomes is independent of all the others. The single experiment is called a **Bernoulli random variable**, which takes the value $1$ with probability $p$ and the value $0$ with probability $1−p$. Less formally, it can be thought of as a model for the set of possible outcomes of any single experiment that asks a yes–no question. It can be used to represent a possibly biased coin toss."
   ]
  },
  {
   "cell_type": "code",
   "execution_count": 32,
   "metadata": {},
   "outputs": [],
   "source": [
    "import random\n",
    "\n",
    "def bernoulli_trial(p: float) -> int:\n",
    "    \"\"\"Returns 1 with probability p and 0 with probability 1-p\"\"\"\n",
    "    return 1 if random.random() < p else 0\n",
    "\n",
    "def binomial(n: int, p: float) -> int:\n",
    "    \"\"\"Returns the sum of n bernoulli(p) trials\"\"\"\n",
    "    return sum(bernoulli_trial(p) for _ in range(n))"
   ]
  },
  {
   "cell_type": "code",
   "execution_count": 33,
   "metadata": {},
   "outputs": [
    {
     "data": {
      "image/png": "[encoded data removed]",
      "text/plain": [
       "<Figure size 432x288 with 1 Axes>"
      ]
     },
     "metadata": {
      "needs_background": "light"
     },
     "output_type": "display_data"
    }
   ],
   "source": [
    "from collections import Counter\n",
    "\n",
    "n = 10\n",
    "p = 0.5\n",
    "num_points = 10000\n",
    "\n",
    "data = [binomial(n, p) for _ in range(num_points)]\n",
    "histogram = Counter(data)\n",
    "\n",
    "plt.bar([x for x in histogram.keys()], [v/num_points for v in histogram.values()])\n",
    "\n",
    "plt.title(\"Binomial Distribution\")\n",
    "plt.show()"
   ]
  },
  {
   "cell_type": "markdown",
   "metadata": {},
   "source": [
    "### The Central Limit Theorem\n",
    "\n",
    "One reason the normal distribution is so useful is the **central limit theorem**, which says that a random variable defined as the average of a large number of independent and identically distributed random variables is itself approximately normally distributed.\n",
    "\n",
    "In particular, if $x_1, ..., x_n$ are random variables with mean $\\mu$ and standard deviation $\\sigma$, and if $n$ is large, then:\n",
    "\n",
    "$\\begin{align}\n",
    "\\frac{1}{n}(x_1+...+x_n)\n",
    "\\end{align}$\n",
    "\n",
    "is approximately normally distributed with mean $\\mu$ and standard deviation $\\sigma/\\sqrt{n}$."
   ]
  },
  {
   "cell_type": "markdown",
   "metadata": {},
   "source": [
    "The central limit theorem says that as $n$ gets large, a Binomial(n,p) variable is approximately a normal random variable with mean $\\mu = np$ and standard deviation $\\sigma = \\sqrt{np(1 − p)}$. If we plot both, you can easily see the resemblance:"
   ]
  },
  {
   "cell_type": "code",
   "execution_count": 34,
   "metadata": {},
   "outputs": [
    {
     "data": {
      "image/png": "[encoded data removed]",
      "text/plain": [
       "<Figure size 432x288 with 1 Axes>"
      ]
     },
     "metadata": {
      "needs_background": "light"
     },
     "output_type": "display_data"
    }
   ],
   "source": [
    "from collections import Counter\n",
    "\n",
    "n = 100\n",
    "p = 0.5\n",
    "num_points = 10000\n",
    "\n",
    "data = [binomial(n, p) for _ in range(num_points)]\n",
    "histogram = Counter(data)\n",
    "plt.bar([x for x in histogram.keys()], [v / num_points for v in histogram.values()])\n",
    "\n",
    "xs = range(min(data), max(data) + 1)\n",
    "mu = p * n\n",
    "sigma = math.sqrt(n * p * (1 - p))\n",
    "ys = [normal_pdf(i, mu, sigma) for i in xs]\n",
    "plt.plot(xs,ys)\n",
    "\n",
    "plt.title(\"Binomial Distribution vs. Normal Approximation\")\n",
    "plt.show()"
   ]
  },
  {
   "cell_type": "code",
   "execution_count": 35,
   "metadata": {},
   "outputs": [],
   "source": [
    "from typing import Tuple\n",
    "\n",
    "def normal_approximation_to_binomial(n: int, p: float) -> Tuple[float, float]:\n",
    "    \"\"\"Returns mu and sigma corresponding to a Binomial(n, p)\"\"\"\n",
    "    mu = p * n\n",
    "    sigma = math.sqrt(p * (1 - p) * n)\n",
    "    return mu, sigma"
   ]
  },
  {
   "cell_type": "markdown",
   "metadata": {},
   "source": [
    "## Hypothesis and Inference\n",
    "\n",
    "What will we do with all this statistics and probability theory? Forming and testing **hypotheses** about our data and the processes that generate it. Hypotheses are assertions like “this coin is fair” that can be translated into statistics about data. Under various assumptions, those statistics can be thought of as observations of random variables from known distributions, which allows us to make statements about how likely those assumptions are to hold. In the classical setup, we have a **null hypothesis** ($H_0$), that represents some default position, and some alternative hypothesis ($H_1$), that we’d like to compare it with. We use statistics to decide whether we can reject $H_0$ as false or not.\n"
   ]
  },
  {
   "cell_type": "markdown",
   "metadata": {},
   "source": [
    "Imagine we have a coin and we want to test whether it’s fair. We’ll make the assumption that the coin has some probability $p$ of landing heads and our null hypothesis is that $p=0.5$ (coin is fair). We’ll test this against the alternative hypothesis $p\\neq0.5$"
   ]
  },
  {
   "cell_type": "markdown",
   "metadata": {},
   "source": [
    "In particular, our test will involve flipping the coin some number $n$ times and counting the number of heads $X$. Each coin flip is a Bernoulli trial, which means that X is a\n",
    "Binomial(n,p) random variable, which we can approximate using the normal distribution (thanks to the central limit theorem)."
   ]
  },
  {
   "cell_type": "markdown",
   "metadata": {},
   "source": [
    "Let’s say that we choose to flip the coin $n=1.000$ times. If our hypothesis of fairness is true, X should be distributed approximately normally with:"
   ]
  },
  {
   "cell_type": "code",
   "execution_count": 36,
   "metadata": {},
   "outputs": [
    {
     "name": "stdout",
     "output_type": "stream",
     "text": [
      "mu = 500.0\n",
      "sigma = 15.811388300841896\n"
     ]
    }
   ],
   "source": [
    "mu, sigma = normal_approximation_to_binomial(1000, 0.5)\n",
    "print('mu =',mu)\n",
    "print('sigma =',sigma)"
   ]
  },
  {
   "cell_type": "markdown",
   "metadata": {},
   "source": [
    "Whenever a random variable follows a normal distribution, we can use normal CDF to figure out the probability that its realized value lies within or outside a particular interval:"
   ]
  },
  {
   "cell_type": "code",
   "execution_count": 37,
   "metadata": {},
   "outputs": [],
   "source": [
    "# The normal cdf _is_ the probability the variable is below a threshold\n",
    "def normal_probability_below(hi: float, mu: float = 0, sigma: float = 1) -> float:\n",
    "    \"\"\"The probability that a N(mu, sigma) is less than hi.\"\"\"\n",
    "    return normal_cdf(hi, mu, sigma)\n",
    "\n",
    "# It's above the threshold if it's not below the threshold\n",
    "def normal_probability_above(lo: float, mu: float = 0, sigma: float = 1) -> float:\n",
    "    \"\"\"The probability that a N(mu, sigma) is greater than lo.\"\"\"\n",
    "    return 1 - normal_cdf(lo, mu, sigma)\n",
    "\n",
    "# It's between if it's less than hi, but not less than lo.\n",
    "def normal_probability_between(lo: float, hi: float, mu: float = 0, sigma: float = 1) -> float:\n",
    "    \"\"\"The probability that a N(mu, sigma) is between lo and hi.\"\"\"\n",
    "    return normal_cdf(hi, mu, sigma) - normal_cdf(lo, mu, sigma)\n",
    "\n",
    "# It's outside if it's not between\n",
    "def normal_probability_outside(lo: float, hi: float, mu: float = 0, sigma: float = 1) -> float:\n",
    "    \"\"\"The probability that a N(mu, sigma) is not between lo and hi.\"\"\"\n",
    "    return 1 - normal_probability_between(lo, hi, mu, sigma)"
   ]
  },
  {
   "cell_type": "markdown",
   "metadata": {},
   "source": [
    "We can do the reverse, find either the interval that accounts for a certain level of likelihood. For example, if we want to find an interval centered at the mean and containing 60% probability, then we find the cutoffs where the upper and lower tails each contain 20% of the probability (leaving 60%)."
   ]
  },
  {
   "cell_type": "code",
   "execution_count": 38,
   "metadata": {},
   "outputs": [],
   "source": [
    "def normal_upper_bound(probability: float, mu: float = 0, sigma: float = 1) -> float:\n",
    "    \"\"\"Returns the z for which P(Z <= z) = probability\"\"\"\n",
    "    return inverse_normal_cdf(probability, mu, sigma)\n",
    "\n",
    "def normal_lower_bound(probability: float, mu: float = 0, sigma: float = 1) -> float:\n",
    "    \"\"\"Returns the z for which P(Z >= z) = probability\"\"\"\n",
    "    return inverse_normal_cdf(1 - probability, mu, sigma)\n",
    "\n",
    "def normal_two_sided_bounds(probability: float, mu: float = 0, sigma: float = 1) -> Tuple[float, float]:\n",
    "    \"\"\"Returns the symmetric (about the mean) bounds that contain the specified probability\"\"\"\n",
    "    tail_probability = (1 - probability) / 2\n",
    "    upper_bound = normal_lower_bound(tail_probability, mu, sigma)\n",
    "    lower_bound = normal_upper_bound(tail_probability, mu, sigma)\n",
    "    return lower_bound, upper_bound"
   ]
  },
  {
   "cell_type": "markdown",
   "metadata": {},
   "source": [
    "### Significance and Power\n",
    "\n",
    "We need to make a decision about **significance**: how willing we are to make an **false positive** error in which we reject $H_0$ even though it’s true? For historical reasons, in general this willingness is often set at 5%.\n",
    "\n",
    "In our example:"
   ]
  },
  {
   "cell_type": "code",
   "execution_count": 39,
   "metadata": {},
   "outputs": [
    {
     "name": "stdout",
     "output_type": "stream",
     "text": [
      "lower_bound = 469.01026640487555\n",
      "upper_bound = 530.9897335951244\n"
     ]
    }
   ],
   "source": [
    "lower_bound, upper_bound = normal_two_sided_bounds(0.95, mu, sigma)\n",
    "print('lower_bound =', lower_bound)\n",
    "print('upper_bound =', upper_bound)"
   ]
  },
  {
   "cell_type": "markdown",
   "metadata": {},
   "source": [
    "In other words, assuming $p$ really equals $0.5$ ($H_0$ is true), there is just a 5% chance tath we observe an $X$ that lies outside this interval."
   ]
  },
  {
   "cell_type": "markdown",
   "metadata": {},
   "source": [
    "We are also often interested in the **power** of a test, which is the probability of not making **false negative** errors, in which we fail to reject $H_0$ even though it’s false. In order to measure this, we have to specify what exactly $H_0$ being false means.\n",
    "\n",
    "In the example, let’s check what happens if $p$ is really $0.55$, so that the coin is slightly biased toward heads. In that case, we can calculate the power of the test with:"
   ]
  },
  {
   "cell_type": "code",
   "execution_count": 40,
   "metadata": {},
   "outputs": [
    {
     "name": "stdout",
     "output_type": "stream",
     "text": [
      "mu_real = 550.0\n",
      "sigma_real = 15.732132722552274\n",
      "power = 0.8865480012953671\n"
     ]
    }
   ],
   "source": [
    "# Actual mu and sigma based on p = 0.55\n",
    "mu_real, sigma_real = normal_approximation_to_binomial(1000, 0.55)\n",
    "print('mu_real =',mu_real)\n",
    "print('sigma_real =',sigma_real)\n",
    "\n",
    "# False negative error means we fail to reject the null hypothesis\n",
    "# which will happen when X is still in our original interval\n",
    "false_negative_probability = normal_probability_between(lower_bound, upper_bound, mu_real, sigma_real)\n",
    "power = 1 - false_negative_probability\n",
    "\n",
    "print('power =', power);"
   ]
  },
  {
   "cell_type": "markdown",
   "metadata": {},
   "source": [
    "Imagine instead that our null hypothesis was that the coin is not biased toward heads ($p \\le 0.5$) In that case, we want a one-sided test that rejects the null hypothesis when $X$ is much larger than 500 but not when $X$ is smaller than 500. So, a 5% significance test involves using normal_probability_below to find the cutoff below which 95% of the probability lies:"
   ]
  },
  {
   "cell_type": "code",
   "execution_count": 41,
   "metadata": {},
   "outputs": [
    {
     "name": "stdout",
     "output_type": "stream",
     "text": [
      "upper_bound = 526.0073585242053\n",
      "power = 0.9363794803307173\n"
     ]
    }
   ],
   "source": [
    "upper_bound = normal_upper_bound(0.95, mu, sigma)\n",
    "print('upper_bound =', upper_bound)\n",
    "\n",
    "false_negative_probability = normal_probability_below(upper_bound, mu_real, sigma_real)\n",
    "power = 1 - false_negative_probability\n",
    "\n",
    "print('power =', power);"
   ]
  },
  {
   "cell_type": "markdown",
   "metadata": {},
   "source": [
    "### p-Values\n",
    "\n",
    "An alternative way of thinking about the preceding test involves p-values. Instead of choosing bounds based on some probability cutoff, we compute the probability (assuming $H_0$ is true) that we would see a value at least as extreme as the one we actually observed."
   ]
  },
  {
   "cell_type": "code",
   "execution_count": 42,
   "metadata": {},
   "outputs": [],
   "source": [
    "def two_sided_p_value(x: float, mu: float = 0, sigma: float = 1) -> float:\n",
    "    \"\"\" How likely is a value at least as extreme as x if our values are from a N(mu, sigma)? \"\"\"\n",
    "    if x >= mu:\n",
    "        # x is greater than the mean, so the tail is everything greater than x\n",
    "        return 2 * normal_probability_above(x, mu, sigma)\n",
    "    else:\n",
    "        # x is less than the mean, so the tail is everything less than x\n",
    "        return 2 * normal_probability_below(x, mu, sigma)"
   ]
  },
  {
   "cell_type": "markdown",
   "metadata": {},
   "source": [
    "If we were to see 530 heads, we would compute:"
   ]
  },
  {
   "cell_type": "code",
   "execution_count": 43,
   "metadata": {},
   "outputs": [
    {
     "data": {
      "text/plain": [
       "0.06207721579598835"
      ]
     },
     "execution_count": 43,
     "metadata": {},
     "output_type": "execute_result"
    }
   ],
   "source": [
    "two_sided_p_value(529.5, mu, sigma)"
   ]
  },
  {
   "cell_type": "markdown",
   "metadata": {},
   "source": [
    "We use a value of 529.5 rather than using 530. This is what’s called a **continuity correction**. It reflects the fact that normal_probability_between(529.5, 530.5, mu, sigma) is a better estimate of the probability of seeing 530 heads than normal_probability_between(530, 531, mu, sigma) is. Correspondingly, normal_probability_above(529.5, mu, sigma) is a better estimate of the probability of seeing at least 530\n",
    "heads. You may have noticed that we also used this in the code that\n",
    "produced Figure 6-4."
   ]
  },
  {
   "cell_type": "markdown",
   "metadata": {},
   "source": [
    "Since the p-value is greater than our 5% significance, we don’t reject the hypothesys. If we instead saw 532 heads, the p-value would be:"
   ]
  },
  {
   "cell_type": "code",
   "execution_count": 44,
   "metadata": {},
   "outputs": [
    {
     "data": {
      "text/plain": [
       "0.046345287837786575"
      ]
     },
     "execution_count": 44,
     "metadata": {},
     "output_type": "execute_result"
    }
   ],
   "source": [
    "two_sided_p_value(531.5, mu, sigma)"
   ]
  },
  {
   "cell_type": "markdown",
   "metadata": {},
   "source": [
    "which is smaller than the 5% significance, which means we would reject the null."
   ]
  },
  {
   "cell_type": "markdown",
   "metadata": {},
   "source": [
    "If you’re setting out to find \"significant\" results, you usually can. Test enough hypotheses against your dataset, and one of them will almost certainly appear significant. "
   ]
  },
  {
   "cell_type": "code",
   "execution_count": 45,
   "metadata": {},
   "outputs": [
    {
     "name": "stdout",
     "output_type": "stream",
     "text": [
      "44\n"
     ]
    }
   ],
   "source": [
    "from typing import List\n",
    "\n",
    "def run_experiment() -> List[bool]:\n",
    "    \"\"\"Flips a fair coin 1000 times, True = heads, False = tails\"\"\"\n",
    "    return [random.random() < 0.5 for _ in range(1000)]\n",
    "\n",
    "def reject_fairness(experiment: List[bool]) -> bool:\n",
    "    \"\"\"Using the 5% significance levels\"\"\"\n",
    "    num_heads = len([flip for flip in experiment if flip])\n",
    "    return num_heads < 469 or num_heads > 531\n",
    "\n",
    "experiments = [run_experiment() for _ in range(1000)]\n",
    "num_rejections = len([experiment for experiment in experiments if reject_fairness(experiment)])\n",
    "\n",
    "print(num_rejections)"
   ]
  },
  {
   "cell_type": "markdown",
   "metadata": {},
   "source": [
    "This is called **p-hacking**, a good article criticizing this approach is [J. Cohen, **The Earth Is Round**](https://psycnet.apa.org/doiLanding?doi=10.1037%2F0003-066X.49.12.997).\n",
    "\n",
    "If you want to do good science, you should determine your hypotheses before looking at the data, you should clean your data without the hypotheses in mind, and you should keep in\n",
    "mind that p-values are not substitutes for common sense."
   ]
  }
 ],
 "metadata": {
  "kernelspec": {
   "display_name": "Python 3 (ipykernel)",
   "language": "python",
   "name": "python3"
  },
  "language_info": {
   "codemirror_mode": {
    "name": "ipython",
    "version": 3
   },
   "file_extension": ".py",
   "mimetype": "text/x-python",
   "name": "python",
   "nbconvert_exporter": "python",
   "pygments_lexer": "ipython3",
   "version": "3.8.10"
  },
  "toc": {
   "toc_cell": false,
   "toc_number_sections": true,
   "toc_threshold": 6,
   "toc_window_display": false
  }
 },
 "nbformat": 4,
 "nbformat_minor": 4
}
